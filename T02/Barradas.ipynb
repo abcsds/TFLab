{
 "cells": [
  {
   "cell_type": "markdown",
   "metadata": {
    "colab_type": "text",
    "id": "jknoIGJEQbRi"
   },
   "source": [
    "# Google Drive Loading\n",
    "It requires to mount the directory first\n",
    "Please put the data in the same directory as below to avoid probems"
   ]
  },
  {
   "cell_type": "code",
   "execution_count": 0,
   "metadata": {
    "colab": {},
    "colab_type": "code",
    "id": "IO-qHXLXMdqS"
   },
   "outputs": [],
   "source": [
    "import numpy as np\n",
    "import pickle as pk\n",
    "from google.colab import drive\n",
    "import tensorflow as tf\n",
    "import os\n",
    "# drive.mount('/content/gdrive', force_remount=True)"
   ]
  },
  {
   "cell_type": "code",
   "execution_count": 21,
   "metadata": {
    "colab": {
     "base_uri": "https://localhost:8080/",
     "height": 126
    },
    "colab_type": "code",
    "id": "qo5eDJddTM5r",
    "outputId": "b59fb9ad-f9ea-4346-9cb6-81d9e81d4400"
   },
   "outputs": [
    {
     "name": "stdout",
     "output_type": "stream",
     "text": [
      "Go to this URL in a browser: https://accounts.google.com/o/oauth2/auth?client_id=947318989803-6bn6qk8qdgf4n4g3pfee6491hc0brc4i.apps.googleusercontent.com&redirect_uri=urn%3Aietf%3Awg%3Aoauth%3A2.0%3Aoob&scope=email%20https%3A%2F%2Fwww.googleapis.com%2Fauth%2Fdocs.test%20https%3A%2F%2Fwww.googleapis.com%2Fauth%2Fdrive%20https%3A%2F%2Fwww.googleapis.com%2Fauth%2Fdrive.photos.readonly%20https%3A%2F%2Fwww.googleapis.com%2Fauth%2Fpeopleapi.readonly&response_type=code\n",
      "\n",
      "Enter your authorization code:\n",
      "··········\n",
      "Mounted at /content/gdrive\n"
     ]
    }
   ],
   "source": [
    "drive.mount('/content/gdrive', force_remount=True)"
   ]
  },
  {
   "cell_type": "code",
   "execution_count": 0,
   "metadata": {
    "colab": {},
    "colab_type": "code",
    "id": "HJg1BvOTYcZZ"
   },
   "outputs": [],
   "source": [
    "def motionLoad(classes, directory, window = 60):\n",
    "  \n",
    "  if directory.endswith(\"/\"):\n",
    "    dire = directory\n",
    "  else:\n",
    "    dire = directory+\"/\"\n",
    "  file_list = os.listdir(dire)\n",
    "#   print(file_list)\n",
    "  file_list = [i for i in file_list if any(s in i for s in classes)]\n",
    "#   print(file_list)\n",
    "  instances = []\n",
    "  labels = []\n",
    "  #READ FILES\n",
    "  for f in file_list:\n",
    "    label = [0.,0.,0.]\n",
    "    index = 0\n",
    "    #CHECK CLASS\n",
    "    for c, cla in enumerate(classes):\n",
    "      if cla in f:\n",
    "        label[c] = 1.0\n",
    "    #OPEN FILE    \n",
    "    with open(directory+f) as doc:\n",
    "      lines = doc.readlines()\n",
    "    end = 0\n",
    "    #READ AND APPEND\n",
    "    while index < len(lines):\n",
    "      count = 0\n",
    "      subin = []\n",
    "      if index+window < len(lines):\n",
    "        while count < window:\n",
    "          count +=1\n",
    "          out = lines[index].split(\"|m \")[1].split(\" |class\")[0].split(\" \") # if you make changes look here\n",
    "          out = [float(i) for i in out]\n",
    "          subin.append(out)\n",
    "          index +=1 # pay attention here!\n",
    "        instances.append(np.array(subin))\n",
    "        labels.append   (np.array(label))\n",
    "      else:\n",
    "        index = len(lines)\n",
    "  return instances, labels\n",
    "      \n",
    "          \n",
    "      "
   ]
  },
  {
   "cell_type": "code",
   "execution_count": 0,
   "metadata": {
    "colab": {},
    "colab_type": "code",
    "id": "GzrYnDh0ZTVa"
   },
   "outputs": [],
   "source": [
    "xv, yv = motionLoad([\"Crouching\", \"Running\", \"Swing\"], \"/content/gdrive/My Drive/DLLab/Motion/VAL/\", 60)\n",
    "xt, yt = motionLoad([\"Crouching\", \"Running\", \"Swing\"], \"/content/gdrive/My Drive/DLLab/Motion/TRAIN/\", 60)\n",
    "# motionLoad([\"Crouching\", \"Running\", \"Swing\"], \"/content/gdrive/My Drive/DLLab/Motion/TEST/\")"
   ]
  },
  {
   "cell_type": "code",
   "execution_count": 24,
   "metadata": {
    "colab": {
     "base_uri": "https://localhost:8080/",
     "height": 35
    },
    "colab_type": "code",
    "id": "w4GFQdHq1T8M",
    "outputId": "43cce519-939e-4375-83fe-bcc3d8f6e394"
   },
   "outputs": [
    {
     "data": {
      "text/plain": [
       "(355, 60, 20)"
      ]
     },
     "execution_count": 24,
     "metadata": {
      "tags": []
     },
     "output_type": "execute_result"
    }
   ],
   "source": [
    "np.array(xv).shape # (BATCH, TIME, FEATURES)"
   ]
  },
  {
   "cell_type": "code",
   "execution_count": 0,
   "metadata": {
    "colab": {},
    "colab_type": "code",
    "id": "Tah0eJsp8MLB"
   },
   "outputs": [],
   "source": []
  },
  {
   "cell_type": "code",
   "execution_count": 0,
   "metadata": {
    "colab": {},
    "colab_type": "code",
    "id": "I2Io9dZq8-eu"
   },
   "outputs": [],
   "source": []
  },
  {
   "cell_type": "markdown",
   "metadata": {
    "colab_type": "text",
    "id": "cNyHJn0ARd3A"
   },
   "source": [
    "# Task 2\n",
    "\n",
    "## 1) Normalize the data-set\n",
    "\n",
    "## 2) Build a LSTM architecture to classify this data-set\n",
    "\n",
    "GIT: https://github.com/RafaelDrumond/PeekDB\n",
    "\n",
    "Run for 25 epochs and report your results.\n",
    "Classes used:  \"Crouching\", \"Running\", \"Swing\"\n",
    "\n",
    "Use Actor 2 for validation, and actor 3 and onwards for training. Remember to use np.array to transform the list into numpy array.\n",
    "\n",
    "Pay attention to:\n",
    "  The size of the window (use 3 different sizes)\n",
    "\n",
    "## 3) On the current state the loaded data-set is not optimal, you must improve the loading function (hint: the git points to a certain paper that might help with and augmentation)\n",
    "\n",
    "## 4) BONUS: use early time-series to see if you can improve the scores"
   ]
  },
  {
   "cell_type": "code",
   "execution_count": null,
   "metadata": {
    "colab": {},
    "colab_type": "code",
    "id": "tbycKrMPhHku"
   },
   "outputs": [],
   "source": [
    "import tensorflow as tf\n",
    "import numpy as np"
   ]
  },
  {
   "cell_type": "code",
   "execution_count": null,
   "metadata": {
    "colab": {},
    "colab_type": "code",
    "id": "HwS7_ACPhIKW"
   },
   "outputs": [],
   "source": [
    "x = [[[1.,2.,3.,4.],[1.,2.,3.,4.],[0.,1.,2.,4.]]]\n",
    "x = np.array(x)"
   ]
  },
  {
   "cell_type": "code",
   "execution_count": null,
   "metadata": {
    "colab": {
     "base_uri": "https://localhost:8080/",
     "height": 35
    },
    "colab_type": "code",
    "id": "qX244KQEhu1y",
    "outputId": "00a0efed-f83d-4278-affa-816095c070cb"
   },
   "outputs": [],
   "source": [
    "X      = tf.placeholder(tf.float32,(None, None, 4))\n",
    "output = tf.keras.layers.GRU(2, return_sequences=True)(X)\n",
    "output = tf.keras.layers.GRU(2, return_sequences=True)(output)\n",
    "with tf.Session() as sess:\n",
    "  sess.run(tf.global_variables_initializer())\n",
    "  print(sess.run(output,feed_dict={X:x}).shape)"
   ]
  },
  {
   "cell_type": "code",
   "execution_count": null,
   "metadata": {},
   "outputs": [],
   "source": []
  }
 ],
 "metadata": {
  "accelerator": "GPU",
  "colab": {
   "collapsed_sections": [],
   "name": "Task 2",
   "provenance": [],
   "version": "0.3.2"
  },
  "kernelspec": {
   "display_name": "Python 3",
   "language": "python",
   "name": "python3"
  },
  "language_info": {
   "codemirror_mode": {
    "name": "ipython",
    "version": 3
   },
   "file_extension": ".py",
   "mimetype": "text/x-python",
   "name": "python",
   "nbconvert_exporter": "python",
   "pygments_lexer": "ipython3",
   "version": "3.5.2"
  }
 },
 "nbformat": 4,
 "nbformat_minor": 1
}
