{
  "nbformat": 4,
  "nbformat_minor": 0,
  "metadata": {
    "colab": {
      "name": "Task 2",
      "version": "0.3.2",
      "provenance": [],
      "collapsed_sections": []
    },
    "kernelspec": {
      "name": "python3",
      "display_name": "Python 3"
    },
    "accelerator": "GPU"
  },
  "cells": [
    {
      "cell_type": "markdown",
      "metadata": {
        "id": "jknoIGJEQbRi",
        "colab_type": "text"
      },
      "source": [
        "# Google Drive Loading\n",
        "It requires to mount the directory first\n",
        "Please put the data in the same directory as below to avoid probems"
      ]
    },
    {
      "cell_type": "code",
      "metadata": {
        "id": "IO-qHXLXMdqS",
        "colab_type": "code",
        "colab": {}
      },
      "source": [
        "import numpy as np\n",
        "import pickle as pk\n",
        "from google.colab import drive\n",
        "import tensorflow as tf\n",
        "import os\n",
        "# drive.mount('/content/gdrive', force_remount=True)"
      ],
      "execution_count": 0,
      "outputs": []
    },
    {
      "cell_type": "code",
      "metadata": {
        "id": "qo5eDJddTM5r",
        "colab_type": "code",
        "outputId": "b59fb9ad-f9ea-4346-9cb6-81d9e81d4400",
        "colab": {
          "base_uri": "https://localhost:8080/",
          "height": 126
        }
      },
      "source": [
        "drive.mount('/content/gdrive', force_remount=True)"
      ],
      "execution_count": 21,
      "outputs": [
        {
          "output_type": "stream",
          "text": [
            "Go to this URL in a browser: https://accounts.google.com/o/oauth2/auth?client_id=947318989803-6bn6qk8qdgf4n4g3pfee6491hc0brc4i.apps.googleusercontent.com&redirect_uri=urn%3Aietf%3Awg%3Aoauth%3A2.0%3Aoob&scope=email%20https%3A%2F%2Fwww.googleapis.com%2Fauth%2Fdocs.test%20https%3A%2F%2Fwww.googleapis.com%2Fauth%2Fdrive%20https%3A%2F%2Fwww.googleapis.com%2Fauth%2Fdrive.photos.readonly%20https%3A%2F%2Fwww.googleapis.com%2Fauth%2Fpeopleapi.readonly&response_type=code\n",
            "\n",
            "Enter your authorization code:\n",
            "··········\n",
            "Mounted at /content/gdrive\n"
          ],
          "name": "stdout"
        }
      ]
    },
    {
      "cell_type": "code",
      "metadata": {
        "id": "HJg1BvOTYcZZ",
        "colab_type": "code",
        "colab": {}
      },
      "source": [
        "def motionLoad(classes, directory, window = 60):\n",
        "  \n",
        "  if directory.endswith(\"/\"):\n",
        "    dire = directory\n",
        "  else:\n",
        "    dire = directory+\"/\"\n",
        "  file_list = os.listdir(dire)\n",
        "#   print(file_list)\n",
        "  file_list = [i for i in file_list if any(s in i for s in classes)]\n",
        "#   print(file_list)\n",
        "  instances = []\n",
        "  labels = []\n",
        "  #READ FILES\n",
        "  for f in file_list:\n",
        "    label = [0.,0.,0.]\n",
        "    index = 0\n",
        "    #CHECK CLASS\n",
        "    for c, cla in enumerate(classes):\n",
        "      if cla in f:\n",
        "        label[c] = 1.0\n",
        "    #OPEN FILE    \n",
        "    with open(directory+f) as doc:\n",
        "      lines = doc.readlines()\n",
        "    end = 0\n",
        "    #READ AND APPEND\n",
        "    while index < len(lines):\n",
        "      count = 0\n",
        "      subin = []\n",
        "      if index+window < len(lines):\n",
        "        while count < window:\n",
        "          count +=1\n",
        "          out = lines[index].split(\"|m \")[1].split(\" |class\")[0].split(\" \") # if you make changes look here\n",
        "          out = [float(i) for i in out]\n",
        "          subin.append(out)\n",
        "          index +=1 # pay attention here!\n",
        "        instances.append(np.array(subin))\n",
        "        labels.append   (np.array(label))\n",
        "      else:\n",
        "        index = len(lines)\n",
        "  return instances, labels\n",
        "      \n",
        "          \n",
        "      "
      ],
      "execution_count": 0,
      "outputs": []
    },
    {
      "cell_type": "code",
      "metadata": {
        "id": "GzrYnDh0ZTVa",
        "colab_type": "code",
        "colab": {}
      },
      "source": [
        "xv, yv = motionLoad([\"Crouching\", \"Running\", \"Swing\"], \"/content/gdrive/My Drive/DLLab/Motion/VAL/\", 60)\n",
        "xt, yt = motionLoad([\"Crouching\", \"Running\", \"Swing\"], \"/content/gdrive/My Drive/DLLab/Motion/TRAIN/\", 60)\n",
        "# motionLoad([\"Crouching\", \"Running\", \"Swing\"], \"/content/gdrive/My Drive/DLLab/Motion/TEST/\")"
      ],
      "execution_count": 0,
      "outputs": []
    },
    {
      "cell_type": "code",
      "metadata": {
        "id": "w4GFQdHq1T8M",
        "colab_type": "code",
        "colab": {
          "base_uri": "https://localhost:8080/",
          "height": 35
        },
        "outputId": "43cce519-939e-4375-83fe-bcc3d8f6e394"
      },
      "source": [
        "np.array(xv).shape # (BATCH, TIME, FEATURES)"
      ],
      "execution_count": 24,
      "outputs": [
        {
          "output_type": "execute_result",
          "data": {
            "text/plain": [
              "(355, 60, 20)"
            ]
          },
          "metadata": {
            "tags": []
          },
          "execution_count": 24
        }
      ]
    },
    {
      "cell_type": "code",
      "metadata": {
        "id": "Tah0eJsp8MLB",
        "colab_type": "code",
        "colab": {}
      },
      "source": [
        ""
      ],
      "execution_count": 0,
      "outputs": []
    },
    {
      "cell_type": "code",
      "metadata": {
        "id": "I2Io9dZq8-eu",
        "colab_type": "code",
        "colab": {}
      },
      "source": [
        ""
      ],
      "execution_count": 0,
      "outputs": []
    },
    {
      "cell_type": "markdown",
      "metadata": {
        "id": "cNyHJn0ARd3A",
        "colab_type": "text"
      },
      "source": [
        "# Task 2\n",
        "\n",
        "## 1) Normalize the data-set\n",
        "\n",
        "## 2) Build a LSTM architecture to classify this data-set\n",
        "\n",
        "GIT: https://github.com/RafaelDrumond/PeekDB\n",
        "\n",
        "Run for 25 epochs and report your results.\n",
        "Classes used:  \"Crouching\", \"Running\", \"Swing\"\n",
        "\n",
        "Use Actor 2 for validation, and actor 3 and onwards for training. Remember to use np.array to transform the list into numpy array.\n",
        "\n",
        "Pay attention to:\n",
        "  The size of the window (use 3 different sizes)\n",
        "\n",
        "## 3) On the current state the loaded data-set is not optimal, you must improve the loading function (hint: the git points to a certain paper that might help with and augmentation)\n",
        "\n",
        "## 4) BONUS: use early time-series to see if you can improve the scores"
      ]
    },
    {
      "cell_type": "code",
      "metadata": {
        "id": "tbycKrMPhHku",
        "colab_type": "code",
        "colab": {}
      },
      "source": [
        "import tensorflow as tf\n",
        "import numpy as np"
      ],
      "execution_count": 0,
      "outputs": []
    },
    {
      "cell_type": "code",
      "metadata": {
        "id": "HwS7_ACPhIKW",
        "colab_type": "code",
        "colab": {}
      },
      "source": [
        "x = [[[1.,2.,3.,4.],[1.,2.,3.,4.],[0.,1.,2.,4.]]]\n",
        "x = np.array(x)"
      ],
      "execution_count": 0,
      "outputs": []
    },
    {
      "cell_type": "code",
      "metadata": {
        "id": "qX244KQEhu1y",
        "colab_type": "code",
        "colab": {
          "base_uri": "https://localhost:8080/",
          "height": 35
        },
        "outputId": "00a0efed-f83d-4278-affa-816095c070cb"
      },
      "source": [
        "X      = tf.placeholder(tf.float32,(None, None, 4))\n",
        "output = tf.keras.layers.GRU(2, return_sequences=True)(X)\n",
        "output = tf.keras.layers.GRU(2, return_sequences=True)(output)\n",
        "with tf.Session() as sess:\n",
        "  sess.run(tf.global_variables_initializer())\n",
        "  print(sess.run(output,feed_dict={X:x}).shape)"
      ],
      "execution_count": 20,
      "outputs": [
        {
          "output_type": "stream",
          "text": [
            "(1, 3, 2)\n"
          ],
          "name": "stdout"
        }
      ]
    }
  ]
}