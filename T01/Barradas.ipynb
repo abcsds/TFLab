{
 "cells": [
  {
   "cell_type": "markdown",
   "metadata": {
    "colab_type": "text",
    "id": "jknoIGJEQbRi"
   },
   "source": [
    "# Google Drive Loading\n",
    "It requires to mount the directory first\n",
    "Please put the data in the same directory as below to avoid probems"
   ]
  },
  {
   "cell_type": "code",
   "execution_count": 2,
   "metadata": {},
   "outputs": [
    {
     "name": "stdout",
     "output_type": "stream",
     "text": [
      "Collecting sklearn\n",
      "  Downloading https://files.pythonhosted.org/packages/1e/7a/dbb3be0ce9bd5c8b7e3d87328e79063f8b263b2b1bfa4774cb1147bfcd3f/sklearn-0.0.tar.gz\n",
      "Collecting scikit-learn (from sklearn)\n",
      "\u001b[?25l  Downloading https://files.pythonhosted.org/packages/38/7f/7d21bd89a97603a14d3770ca912d4402c394a8e50642f9b8b5cc6867a61a/scikit_learn-0.20.3-cp35-cp35m-manylinux1_x86_64.whl (5.3MB)\n",
      "\u001b[K     |████████████████████████████████| 5.3MB 102kB/s eta 0:00:01\n",
      "\u001b[?25hCollecting scipy>=0.13.3 (from scikit-learn->sklearn)\n",
      "\u001b[?25l  Downloading https://files.pythonhosted.org/packages/f0/30/526bee2ce18c066f9ff13ba89603f6c2b96c9fd406b57a21a7ba14bf5679/scipy-1.2.1-cp35-cp35m-manylinux1_x86_64.whl (24.7MB)\n",
      "\u001b[K     |████████████████████████████████| 24.7MB 4.8MB/s eta 0:00:01\n",
      "\u001b[?25hRequirement already satisfied: numpy>=1.8.2 in /usr/local/lib/python3.5/dist-packages (from scikit-learn->sklearn) (1.16.3)\n",
      "Building wheels for collected packages: sklearn\n",
      "  Building wheel for sklearn (setup.py) ... \u001b[?25ldone\n",
      "\u001b[?25h  Stored in directory: /root/.cache/pip/wheels/76/03/bb/589d421d27431bcd2c6da284d5f2286c8e3b2ea3cf1594c074\n",
      "Successfully built sklearn\n",
      "Installing collected packages: scipy, scikit-learn, sklearn\n",
      "Successfully installed scikit-learn-0.20.3 scipy-1.2.1 sklearn-0.0\n"
     ]
    }
   ],
   "source": [
    "!pip install sklearn"
   ]
  },
  {
   "cell_type": "code",
   "execution_count": 3,
   "metadata": {
    "colab": {
     "base_uri": "https://localhost:8080/",
     "height": 52
    },
    "colab_type": "code",
    "id": "TvzBuDPTX5SR",
    "outputId": "c28e85e4-dabd-4528-d3d0-b0138d5edce4"
   },
   "outputs": [
    {
     "name": "stdout",
     "output_type": "stream",
     "text": [
      "Downloading data from https://www.cs.toronto.edu/~kriz/cifar-10-python.tar.gz\n",
      "170500096/170498071 [==============================] - 523s 3us/step\n"
     ]
    }
   ],
   "source": [
    "import tensorflow as tf\n",
    "import numpy as np\n",
    "from tensorflow.keras.datasets.cifar10 import load_data\n",
    "from sklearn.preprocessing import OneHotEncoder\n",
    "\n",
    "###\n",
    "  # Prints and image\n",
    "###\n",
    "import matplotlib.pyplot as plt\n",
    "def showIMG(data):\n",
    "  plt.imshow(data)\n",
    "\n",
    "(xt,yt), (xv,yv) = load_data()\n",
    "enc = OneHotEncoder(categories='auto')\n",
    "enc.fit(yt)\n",
    "\n",
    "yt = enc.transform(yt).toarray()\n",
    "yv = enc.transform(yv).toarray()"
   ]
  },
  {
   "cell_type": "code",
   "execution_count": 4,
   "metadata": {
    "colab": {
     "base_uri": "https://localhost:8080/",
     "height": 304
    },
    "colab_type": "code",
    "id": "cNvWRgUyMrz_",
    "outputId": "5c9736e2-0774-4c16-d782-afad4293bdaf"
   },
   "outputs": [
    {
     "name": "stdout",
     "output_type": "stream",
     "text": [
      "(50000, 32, 32, 3) (50000, 10)\n"
     ]
    },
    {
     "data": {
      "text/plain": [
       "50000"
      ]
     },
     "execution_count": 4,
     "metadata": {},
     "output_type": "execute_result"
    },
    {
     "data": {
      "image/png": "[encoded data removed]",
      "text/plain": [
       "<Figure size 432x288 with 1 Axes>"
      ]
     },
     "metadata": {
      "needs_background": "light"
     },
     "output_type": "display_data"
    }
   ],
   "source": [
    "print(xt.shape, yt.shape)\n",
    "train_items = xt.shape[0]\n",
    "test_items  = xv.shape[0]\n",
    "showIMG(xt[30])\n",
    "len(yt)\n",
    "# showIMG(xv[0])"
   ]
  },
  {
   "cell_type": "markdown",
   "metadata": {
    "colab_type": "text",
    "id": "cNyHJn0ARd3A"
   },
   "source": [
    "# Task 1\n",
    "\n",
    "## Build a CNN architecture to classify this data-set\n",
    "\n",
    "Hint: https://www.isip.uni-luebeck.de/fileadmin/uploads/tx_wapublications/hertel_ijcnn_2015.pdf\n",
    "\n",
    "Run for 50 epochs and report your results.\n"
   ]
  },
  {
   "cell_type": "markdown",
   "metadata": {
    "colab_type": "text",
    "id": "Hb2LfoEhEk2y"
   },
   "source": [
    "# Response\n",
    "Installing colab to visualize training\n"
   ]
  },
  {
   "cell_type": "code",
   "execution_count": 3,
   "metadata": {
    "colab": {
     "base_uri": "https://localhost:8080/",
     "height": 34
    },
    "colab_type": "code",
    "id": "NiCKBgJfEoru",
    "outputId": "bb732e80-63e0-4661-ee55-1269bdb8ebd7"
   },
   "outputs": [
    {
     "name": "stdout",
     "output_type": "stream",
     "text": [
      "Requirement already satisfied: tensorboardcolab in /usr/local/lib/python3.6/dist-packages (0.0.22)\n"
     ]
    }
   ],
   "source": [
    "!pip install tensorboardcolab"
   ]
  },
  {
   "cell_type": "code",
   "execution_count": 4,
   "metadata": {
    "colab": {
     "base_uri": "https://localhost:8080/",
     "height": 86
    },
    "colab_type": "code",
    "id": "bJIZLEcGFJfB",
    "outputId": "63297c09-8f95-4004-f957-f51d3c3e3105"
   },
   "outputs": [
    {
     "name": "stderr",
     "output_type": "stream",
     "text": [
      "Using TensorFlow backend.\n"
     ]
    },
    {
     "name": "stdout",
     "output_type": "stream",
     "text": [
      "Wait for 8 seconds...\n",
      "TensorBoard link:\n",
      "http://935aa5e3.ngrok.io\n"
     ]
    }
   ],
   "source": [
    "from tensorboardcolab import TensorBoardColab\n",
    "tbc=TensorBoardColab()\n",
    "logsPath = \"./Graph\""
   ]
  },
  {
   "cell_type": "code",
   "execution_count": 5,
   "metadata": {},
   "outputs": [],
   "source": [
    "logsPath = \"./Graph\""
   ]
  },
  {
   "cell_type": "markdown",
   "metadata": {
    "colab_type": "text",
    "id": "rITn1mph3xG7"
   },
   "source": [
    "# First try\n",
    "In this first atempt no data augmentation will be used, and a simple CNN will be used.\n",
    "The model takes the 32x32 images as input."
   ]
  },
  {
   "cell_type": "code",
   "execution_count": 5,
   "metadata": {
    "colab": {
     "base_uri": "https://localhost:8080/",
     "height": 69
    },
    "colab_type": "code",
    "id": "pUh1L3E64Owd",
    "outputId": "facfd76e-dded-48b6-a16f-29cbfb729436"
   },
   "outputs": [
    {
     "name": "stdout",
     "output_type": "stream",
     "text": [
      "WARNING:tensorflow:From /usr/local/lib/python3.6/dist-packages/tensorflow/python/framework/op_def_library.py:263: colocate_with (from tensorflow.python.framework.ops) is deprecated and will be removed in a future version.\n",
      "Instructions for updating:\n",
      "Colocations handled automatically by placer.\n"
     ]
    }
   ],
   "source": [
    "tf.reset_default_graph()\n",
    "x = tf.placeholder(tf.float32, [None, 32, 32, 3], name=\"Features\")\n",
    "y = tf.placeholder(tf.float32, [None, 10], name=\"Labels\")\n",
    "\n",
    "model = tf.layers.Conv2D(64,[6,6],padding=\"same\",activation=tf.nn.relu, name=\"1_Conv\")(x)\n",
    "model = tf.layers.MaxPooling2D((2,2), (2,2), name=\"1_Pool\")(model)\n",
    "model = tf.layers.Dropout(0.8, name=\"1_Dropout\")(model)\n",
    "model = tf.layers.Conv2D(64,[3,3],padding=\"same\",activation=tf.nn.relu, name=\"2_Conv\")(model)\n",
    "model = tf.layers.MaxPooling2D((2,2), (2,2), name=\"2_Pool\")(model)\n",
    "model = tf.layers.Dropout(0.8, name=\"2_Dropout\")(model)\n",
    "model = tf.layers.BatchNormalization(name=\"batchNormalization\")(model)\n",
    "model = tf.layers.Flatten(name=\"Flatten\")(model)\n",
    "model = tf.layers.Dense(280, name=\"1_dense\")(model)\n",
    "model = tf.layers.Dense(10, name=\"2_dense\")(model)\n",
    "\n",
    "# loss\n",
    "cost = tf.reduce_mean(tf.nn.softmax_cross_entropy_with_logits_v2(labels=y,logits=model))\n",
    "tf.summary.histogram(\"Loss\", cost)\n",
    "\n",
    "# optimizer\n",
    "optimizer = tf.train.AdamOptimizer().minimize(cost)\n",
    "\n",
    "# Accuracy\n",
    "prediction = tf.equal(tf.argmax(model, 1), tf.argmax(y, 1))\n",
    "accuracy = tf.reduce_mean(tf.cast(prediction, tf.float32), name='accuracy')\n",
    "tf.summary.histogram(\"Accuracy\", accuracy)\n",
    "\n",
    "epochs = 50\n",
    "batchSize = 1000\n",
    "n_batches = train_items // batchSize\n",
    "saver = tf.train.Saver()"
   ]
  },
  {
   "cell_type": "code",
   "execution_count": 0,
   "metadata": {
    "colab": {
     "base_uri": "https://localhost:8080/",
     "height": 86
    },
    "colab_type": "code",
    "id": "hnOXdXnCG9T7",
    "outputId": "0688324c-dcf4-48e6-a466-7c0304c72a06"
   },
   "outputs": [
    {
     "name": "stdout",
     "output_type": "stream",
     "text": [
      "Begin Session\n",
      "Variables Initialized\n",
      "Start Epoch  1\n",
      "..............."
     ]
    }
   ],
   "source": [
    "histT = []\n",
    "histV = []\n",
    "print(\"Begin Session\")\n",
    "with tf.Session() as sess:\n",
    "#   if tf.gfile.Exists(logsPath+\"model.ckpt\"):\n",
    "#     saver.restore(sess, logsPath+\"model.ckpt\")\n",
    "#     print(\"Model restored!\")\n",
    "#   train_writer = tf.summary.FileWriter(logsPath, sess.graph)\n",
    "  sess.run(tf.global_variables_initializer())\n",
    "  print(\"Variables Initialized\")\n",
    "    \n",
    "  counter = 0\n",
    "  for epoch in range(epochs):\n",
    "    print(\"Start Epoch {:>2}\".format(epoch + 1))\n",
    "    for i in range(1, n_batches + 1):\n",
    "      print(\".\", end=\"\")\n",
    "      counter += 1\n",
    "      merge = tf.summary.merge_all()\n",
    "      summary, _ = sess.run([merge, optimizer],\n",
    "                            feed_dict={x: xt[i*batchSize:(i+1)*batchSize],\n",
    "                                       y: yt[i*batchSize:(i+1)*batchSize]})\n",
    "    train_writer.add_summary(summary, counter)\n",
    "    print(\"Epoch {:>2}:  \".format(epoch + 1), end=\"\\n\")\n",
    "    vloss, vacc = sess.run([cost,accuracy],\n",
    "                            feed_dict={x: xv,\n",
    "                                       y: yv})\n",
    "    tloss, tacc = sess.run([cost,accuracy],\n",
    "                             feed_dict={x: xt,\n",
    "                                        y: yt})\n",
    "    print(\"Validation Loss: {:>8.4f}, Validation Accuracy: {:>8.6f}\".format(vloss, vacc))\n",
    "    print(\"Training   Loss: {:>8.4f}, Training   Accuracy: {:>8.6f}\".format(tloss, tacc))\n",
    "    histT.append(tacc)\n",
    "    histV.append(vacc)\n",
    "\n",
    "    # Save Model\n",
    "  train_writer.flush()\n",
    "#   save_path = saver.save(sess, './image_classification')"
   ]
  },
  {
   "cell_type": "code",
   "execution_count": 0,
   "metadata": {
    "colab": {},
    "colab_type": "code",
    "id": "9neldp1w_gNC"
   },
   "outputs": [],
   "source": [
    "import matplotlib.pyplot as plt\n",
    "import matplotlib\n",
    "print(matplotlib.__version__)\n",
    "plt.plot(histT, label='TEST')\n",
    "plt.plot(histV, label='TRAIN')\n",
    "plt.legend()\n",
    "plt.show()\n"
   ]
  },
  {
   "cell_type": "markdown",
   "metadata": {
    "colab_type": "text",
    "id": "eW1qEAhuV1Xp"
   },
   "source": [
    "# A better architecture. \n",
    "The following architecture has been observed to reach an accuracy of 90%:\n",
    "\n",
    "- https://arxiv.org/abs/1502.03167\n",
    "- http://www.cs.toronto.edu/~rsalakhu/papers/srivastava14a.pdf"
   ]
  },
  {
   "cell_type": "code",
   "execution_count": 0,
   "metadata": {
    "colab": {},
    "colab_type": "code",
    "id": "kehsfbeIWBh8"
   },
   "outputs": [],
   "source": [
    "tf.reset_default_graph()\n",
    "x = tf.placeholder(tf.float32, [None, 32, 32, 3], name=\"Features\")\n",
    "y = tf.placeholder(tf.float32, [None, 10], name=\"Labels\")\n",
    "\n",
    "model = tf.layers.Conv2D(32,[3,3],padding=\"same\",activation=tf.nn.elu, name=\"1_Conv\")(x)\n",
    "model = tf.layers.BatchNormalization(name=\"1_batchNormalization\")(model)\n",
    "model = tf.layers.Conv2D(32,[3,3],padding=\"same\",activation=tf.nn.elu, name=\"2_Conv\")(model)\n",
    "model = tf.layers.BatchNormalization(name=\"2_batchNormalization\")(model)\n",
    "model = tf.layers.MaxPooling2D(pool_size=(2, 2), strides=1, name=\"1_Pool\")(model)\n",
    "model = tf.layers.Dropout(0.2, name=\"1_Dropout\")(model)\n",
    "model = tf.layers.Conv2D(64,[3,3],padding=\"same\",activation=tf.nn.elu, name=\"3_Conv\")(model)\n",
    "model = tf.layers.BatchNormalization(name=\"3_batchNormalization\")(model)\n",
    "model = tf.layers.Conv2D(64,[3,3],padding=\"same\",activation=tf.nn.elu, name=\"4_Conv\")(model)\n",
    "model = tf.layers.BatchNormalization(name=\"4_batchNormalization\")(model)\n",
    "model = tf.layers.MaxPooling2D(pool_size=(2, 2), strides=1, name=\"2_Pool\")(model)\n",
    "model = tf.layers.Dropout(0.2, name=\"2_Dropout\")(model)\n",
    "model = tf.layers.Conv2D(128,[3,3],padding=\"same\",activation=tf.nn.elu, name=\"5_Conv\")(model)\n",
    "model = tf.layers.BatchNormalization(name=\"5_batchNormalization\")(model)\n",
    "model = tf.layers.Conv2D(128,[3,3],padding=\"same\",activation=tf.nn.elu, name=\"6_Conv\")(model)\n",
    "model = tf.layers.BatchNormalization(name=\"6_batchNormalization\")(model)\n",
    "model = tf.layers.MaxPooling2D(pool_size=(2, 2), strides=1, name=\"2_Pool\")(model)\n",
    "model = tf.layers.Dropout(0.2, name=\"2_Dropout\")(model)\n",
    "model = tf.layers.Flatten(name=\"1_Flatten\")(model)\n",
    "model = tf.layers.Dense(2048, name=\"1_dense\")(model)\n",
    "model = tf.layers.Dense(10, name=\"2_dense\")(model)\n",
    "\n",
    "# loss\n",
    "cost = tf.reduce_mean(tf.nn.softmax_cross_entropy_with_logits_v2(labels=y,logits=model))\n",
    "tf.summary.histogram(\"Loss\", cost)\n",
    "\n",
    "# optimizer\n",
    "optimizer = tf.train.AdamOptimizer().minimize(cost)\n",
    "\n",
    "# Accuracy\n",
    "prediction = tf.equal(tf.argmax(model, 1), tf.argmax(y, 1))\n",
    "accuracy = tf.reduce_mean(tf.cast(prediction, tf.float32), name='accuracy')\n",
    "tf.summary.histogram(\"Accuracy\", accuracy)\n",
    "\n",
    "epochs = 50\n",
    "batchSize = 1000\n",
    "n_batches = train_items // batchSize\n",
    "saver = tf.train.Saver()"
   ]
  },
  {
   "cell_type": "code",
   "execution_count": 0,
   "metadata": {
    "colab": {},
    "colab_type": "code",
    "id": "DbGPAqh2WB0m"
   },
   "outputs": [],
   "source": [
    "histT = []\n",
    "histV = []\n",
    "print(\"Begin Session\")\n",
    "with tf.Session() as sess:\n",
    "#   if tf.gfile.Exists(logsPath+\"model.ckpt\"):\n",
    "#     saver.restore(sess, logsPath+\"model.ckpt\")\n",
    "#     print(\"Model restored!\")\n",
    "  train_writer = tf.summary.FileWriter(logsPath, sess.graph)\n",
    "  sess.run(tf.global_variables_initializer())\n",
    "  print(\"Variables Initialized\")\n",
    "    \n",
    "  counter = 0\n",
    "  for epoch in range(epochs):\n",
    "    print(\"Start Epoch {:>2}\".format(epoch + 1))\n",
    "    for i in range(1, n_batches + 1):\n",
    "      print(\".\", end=\"\")\n",
    "      counter += 1\n",
    "      merge = tf.summary.merge_all()\n",
    "      summary, _ = sess.run([merge, optimizer],\n",
    "                            feed_dict={x: xt[i*batchSize:(i+1)*batchSize],\n",
    "                                       y: yt[i*batchSize:(i+1)*batchSize]})\n",
    "    train_writer.add_summary(summary, counter)\n",
    "    print(\"Epoch {:>2}:  \".format(epoch + 1), end='\\n')\n",
    "    vloss, vacc = sess.run([cost,accuracy],\n",
    "                            feed_dict={x: xv,\n",
    "                                       y: yv})\n",
    "    tloss, tacc = sess.run([cost,accuracy],\n",
    "                             feed_dict={x: xt,\n",
    "                                        y: yt})\n",
    "    print(\"Validation Loss: {:>8.4f}, Validation Accuracy: {:>8.6f}\".format(vloss, vacc))\n",
    "    print(\"Training   Loss: {:>8.4f}, Training   Accuracy: {:>8.6f}\".format(tloss, tacc))\n",
    "    histT.append(tacc)\n",
    "    histV.append(vacc)\n",
    "\n",
    "    # Save Model\n",
    "  train_writer.flush()\n",
    "#   save_path = saver.save(sess, './image_classification')"
   ]
  },
  {
   "cell_type": "code",
   "execution_count": 0,
   "metadata": {
    "colab": {},
    "colab_type": "code",
    "id": "4m-owwAhYhc0"
   },
   "outputs": [],
   "source": [
    "import matplotlib.pyplot as plt\n",
    "import matplotlib\n",
    "print(matplotlib.__version__)\n",
    "plt.plot(histT, label='TEST')\n",
    "plt.plot(histV, label='TRAIN')\n",
    "plt.legend()\n",
    "plt.show()"
   ]
  },
  {
   "cell_type": "code",
   "execution_count": null,
   "metadata": {
    "colab": {},
    "colab_type": "code",
    "id": "GLWfsOJLcnoe"
   },
   "outputs": [],
   "source": [
    "tf.reset_default_graph()\n",
    "x = tf.placeholder(tf.float32, [None, 32, 32, 3], name=\"Features\")\n",
    "y = tf.placeholder(tf.float32, [None, 10], name=\"Labels\")\n",
    "\n",
    "model = tf.layers.Conv2D(32,[3,3],padding=\"same\",activation=tf.nn.elu, name=\"1_Conv\")(x)\n",
    "model = tf.layers.BatchNormalization(name=\"1_batchNormalization\")(model)\n",
    "model = tf.layers.Conv2D(32,[3,3],padding=\"same\",activation=tf.nn.elu, name=\"2_Conv\")(model)\n",
    "model = tf.layers.BatchNormalization(name=\"2_batchNormalization\")(model)\n",
    "model = tf.layers.MaxPooling2D(pool_size=(32, 32), strides=1, name=\"1_Pool\")(model)\n",
    "model = tf.layers.Dropout(0.2, name=\"2_Dropout\")(model)\n",
    "# model = tf.layers.Flatten(name=\"1_Flatten\")(model)\n",
    "model = tf.reshape(model, [-1, 92])\n",
    "model = tf.layers.Dense(2048, name=\"1_dense\")(model)\n",
    "model = tf.layers.Dense(10, name=\"2_dense\")(model)\n",
    "\n",
    "# loss\n",
    "cost = tf.reduce_mean(tf.nn.softmax_cross_entropy_with_logits_v2(labels=y,logits=model))\n",
    "tf.summary.histogram(\"Loss\", cost)\n",
    "\n",
    "# optimizer\n",
    "optimizer = tf.train.AdamOptimizer().minimize(cost)\n",
    "\n",
    "# Accuracy\n",
    "prediction = tf.equal(tf.argmax(model, 1), tf.argmax(y, 1))\n",
    "accuracy = tf.reduce_mean(tf.cast(prediction, tf.float32), name='accuracy')\n",
    "tf.summary.histogram(\"Accuracy\", accuracy)\n",
    "\n",
    "epochs = 50\n",
    "batchSize = 1000\n",
    "n_batches = train_items // batchSize\n",
    "saver = tf.train.Saver()\n",
    "\n",
    "histT = []\n",
    "histV = []\n",
    "print(\"Begin Session\")\n",
    "with tf.Session() as sess:\n",
    "#   if tf.gfile.Exists(logsPath+\"model.ckpt\"):\n",
    "#     saver.restore(sess, logsPath+\"model.ckpt\")\n",
    "#     print(\"Model restored!\")\n",
    "  train_writer = tf.summary.FileWriter(logsPath, sess.graph)\n",
    "  sess.run(tf.global_variables_initializer())\n",
    "  print(\"Variables Initialized\")\n",
    "    \n",
    "  counter = 0\n",
    "  for epoch in range(epochs):\n",
    "    print(\"Start Epoch {:>2}\".format(epoch + 1))\n",
    "    for i in range(1, n_batches + 1):\n",
    "      print(\".\", end=\"\")\n",
    "      counter += 1\n",
    "      merge = tf.summary.merge_all()\n",
    "      summary, _ = sess.run([merge, optimizer],\n",
    "                            feed_dict={x: xt[i*batchSize:(i+1)*batchSize],\n",
    "                                       y: yt[i*batchSize:(i+1)*batchSize]})\n",
    "    train_writer.add_summary(summary, counter)\n",
    "    print(\"Epoch {:>2}:  \".format(epoch + 1), end='\\n')\n",
    "    vloss, vacc = sess.run([cost,accuracy],\n",
    "                            feed_dict={x: xv,\n",
    "                                       y: yv})\n",
    "    tloss, tacc = sess.run([cost,accuracy],\n",
    "                             feed_dict={x: xt,\n",
    "                                        y: yt})\n",
    "    print(\"Validation Loss: {:>8.4f}, Validation Accuracy: {:>8.6f}\".format(vloss, vacc))\n",
    "    print(\"Training   Loss: {:>8.4f}, Training   Accuracy: {:>8.6f}\".format(tloss, tacc))\n",
    "    histT.append(tacc)\n",
    "    histV.append(vacc)\n",
    "\n",
    "    # Save Model\n",
    "  train_writer.flush()\n",
    "#   save_path = saver.save(sess, './image_classification')"
   ]
  },
  {
   "cell_type": "code",
   "execution_count": null,
   "metadata": {},
   "outputs": [],
   "source": []
  }
 ],
 "metadata": {
  "accelerator": "TPU",
  "colab": {
   "collapsed_sections": [],
   "name": "Loading_CIFAR_10.ipynb",
   "provenance": [],
   "version": "0.3.2"
  },
  "kernelspec": {
   "display_name": "Python 3",
   "language": "python",
   "name": "python3"
  },
  "language_info": {
   "codemirror_mode": {
    "name": "ipython",
    "version": 3
   },
   "file_extension": ".py",
   "mimetype": "text/x-python",
   "name": "python",
   "nbconvert_exporter": "python",
   "pygments_lexer": "ipython3",
   "version": "3.5.2"
  }
 },
 "nbformat": 4,
 "nbformat_minor": 1
}
