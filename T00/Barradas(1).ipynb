{
  "nbformat": 4,
  "nbformat_minor": 0,
  "metadata": {
    "colab": {
      "name": "Example.ipynb",
      "version": "0.3.2",
      "provenance": [],
      "collapsed_sections": []
    },
    "kernelspec": {
      "name": "python3",
      "display_name": "Python 3"
    }
  },
  "cells": [
    {
      "metadata": {
        "id": "WUmecs2bXdww",
        "colab_type": "text"
      },
      "cell_type": "markdown",
      "source": [
        "# Load pacakages\n",
        "For our exercises, you should always use the standar packages from Google Colab unless stated otherwise."
      ]
    },
    {
      "metadata": {
        "id": "Mr3-yF_1XGO7",
        "colab_type": "code",
        "outputId": "9cb41294-ca70-4751-c44f-8e01cba725b9",
        "colab": {
          "base_uri": "https://localhost:8080/",
          "height": 69
        }
      },
      "cell_type": "code",
      "source": [
        "import tensorflow as tf\n",
        "import numpy as np\n",
        "import pandas as pd\n",
        "print(tf.__version__)\n",
        "print(np.__version__)\n",
        "print(pd.__version__)"
      ],
      "execution_count": 1,
      "outputs": [
        {
          "output_type": "stream",
          "text": [
            "1.13.1\n",
            "1.16.3\n",
            "0.24.2\n"
          ],
          "name": "stdout"
        }
      ]
    },
    {
      "metadata": {
        "id": "1bD2az2VXwtx",
        "colab_type": "text"
      },
      "cell_type": "markdown",
      "source": [
        "# Load data function\n",
        "Here you must write down your data loading function"
      ]
    },
    {
      "metadata": {
        "id": "a8w13xdzXtNe",
        "colab_type": "code",
        "colab": {}
      },
      "cell_type": "code",
      "source": [
        "def loadTrainData (default_dir=\"/default/path/if/needed\"):\n",
        "  x = np.random.rand(16000,1) # write our data loading procedures\n",
        "  y = np.sin(x)\n",
        "  return x , y\n",
        "\n",
        "def loadTestData (default_dir=\"/default/path/if/needed\"):\n",
        "  x = np.random.rand(160,1) # write our data loading procedures\n",
        "  y = np.sin(x)\n",
        "  return x , y"
      ],
      "execution_count": 0,
      "outputs": []
    },
    {
      "metadata": {
        "id": "CYjifVRqbLMr",
        "colab_type": "text"
      },
      "cell_type": "markdown",
      "source": [
        "# Structure your model\n",
        "Create a class to define and use your model"
      ]
    },
    {
      "metadata": {
        "id": "y0Fv2md1YyKx",
        "colab_type": "code",
        "colab": {}
      },
      "cell_type": "code",
      "source": [
        "class Model:\n",
        "  \"\"\"\n",
        "  Tensor Flow fully connected network model. \n",
        "  `Model(learning_rate=0.0001, mini_batches=16, neurons=[4])`\n",
        "  Parameters\n",
        "  \n",
        "  learning_rate : the learning rate parameter for the optimization method\n",
        "  mini_batches : Number of elements in every batch for the learning phase\n",
        "  layers : list of integers representing the number of neurons on every layer\n",
        "  \"\"\"\n",
        "  def __init__(self,learning_rate=0.0001, mini_batches=16, layers=[4]):\n",
        "    self.lr = learning_rate\n",
        "    self.mb = mini_batches\n",
        "    \n",
        "    # Input and labels can only be float32\n",
        "    self.input = tf.placeholder(tf.float32, shape=(None, 1), name=\"X\")\n",
        "    self.label = tf.placeholder(tf.float32, shape=(None, 1), name=\"Y\")\n",
        "    \n",
        "    # Initialization of model\n",
        "    self.output = self.input\n",
        "    for neurons in layers:\n",
        "      self.output = tf.layers.dense(self.output, neurons)\n",
        "      \n",
        "    self.output = tf.layers.dense(self.output, 1) # last dense layer\n",
        "    \n",
        "    # Definition of the loss\n",
        "    self.loss = (self.output - self.label) * (self.output - self.label)\n",
        "    self.loss = tf.reduce_mean(self.loss)\n",
        "    \n",
        "  def get_loss(self):\n",
        "    \"\"\"loss getter method\"\"\"\n",
        "    return self.loss\n",
        "  \n",
        "  def get_xy(self):\n",
        "    \"\"\"input and label getter\"\"\"\n",
        "    return self.input, self.label\n",
        "  \n",
        "  def get_output(self):\n",
        "    \"\"\"output getter\"\"\"\n",
        "    return self.output"
      ],
      "execution_count": 0,
      "outputs": []
    },
    {
      "metadata": {
        "id": "dG8wbG2IbT2_",
        "colab_type": "text"
      },
      "cell_type": "markdown",
      "source": [
        "# Create an optimization routine\n",
        "Define your optimization steps"
      ]
    },
    {
      "metadata": {
        "id": "KaVxN-qMaY9v",
        "colab_type": "code",
        "colab": {}
      },
      "cell_type": "code",
      "source": [
        "class Optimizer:\n",
        "  \"\"\"\n",
        "  Learning algorithm for a TensorFlow model\n",
        "  `Optimizer(model)`\n",
        "  model : a fully connected TensorFlow neural network\n",
        "  \"\"\"\n",
        "  def __init__(self,model):\n",
        "    self.model     = model\n",
        "    self.loss      = model.get_loss()\n",
        "    self.X, self.Y = model.get_xy()\n",
        "    self.mb        = model.mb # Mini batches\n",
        "    self.output    = model.get_output()\n",
        "    \n",
        "    # Using GD as optimizier algorithm\n",
        "    self.opt       = tf.train.GradientDescentOptimizer(learning_rate = model.lr)\n",
        "    self.optAction = self.opt.minimize(self.loss) # minimize loss\n",
        "    \n",
        "  def batching (self, size):\n",
        "    \"\"\"Return the indexes of the input to be used for minibatch\"\"\"\n",
        "    r=np.arange(int(size))\n",
        "    np.random.shuffle(r)\n",
        "    return r\n",
        "  \n",
        "  def train (self, dataX, dataY, verbose):\n",
        "    \"\"\"Training of the NN\"\"\"\n",
        "    i     = 0 # A counter for the number of data processed\n",
        "    loss  = 0 \n",
        "    count = 0 # Another counter, for the number of minibatches required\n",
        "    batchOrder = self.batching(len(dataX)) # Get indexes of batch data\n",
        "#     print (batchOrder)\n",
        "    while (i+self.mb <= len(dataX)): # for all elements in the input \n",
        "      \n",
        "      # get the batch data\n",
        "      mbX, mbY   = dataX[batchOrder[i:i+self.mb]] , dataY[batchOrder[i:i+self.mb]]\n",
        "      \n",
        "      # run optimization\n",
        "      _ , mbLoss = self.sess.run([self.optAction, self.loss],\n",
        "                                   feed_dict={\n",
        "                                       self.X:mbX,\n",
        "                                       self.Y:mbY\n",
        "                                   })\n",
        "      if verbose>1:\n",
        "        print(\"\\t Inner loss: \"+str(mbLoss))\n",
        "          \n",
        "      loss  += mbLoss\n",
        "      i     += self.mb\n",
        "      count += 1\n",
        "    loss = loss / count\n",
        "    return loss\n",
        "  \n",
        "  def test  (self, dataX, dataY, verbose):\n",
        "    i     = 0 # A counter for the number of data processed\n",
        "    loss  = 0\n",
        "    count = 0 # Another counter, for the number of minibatches required\n",
        "    batchOrder = self.batching(len(dataX)) # Get indexes of batch data\n",
        "    \n",
        "    while (i+self.mb <= len(dataX)): # for all elements in the input \n",
        "      \n",
        "      # get test data for the batch  \n",
        "      mbX, mbY   = dataX[i:i+self.mb] , dataY[i:i+self.mb]\n",
        "      \n",
        "      # get the loss on the test set\n",
        "      mbLoss = self.sess.run(self.loss,\n",
        "                                   feed_dict={\n",
        "                                       self.X:mbX,\n",
        "                                       self.Y:mbY\n",
        "                                   })          \n",
        "      loss  += mbLoss\n",
        "      i     += self.mb\n",
        "      count += 1\n",
        "    loss = loss / count\n",
        "    return loss\n",
        "  \n",
        "  def run   (self, dataX, dataY, testX, testY, epochs, verbose=2):\n",
        "    \"\"\"Run the learning phase and return the test and train history\"\"\"\n",
        "    historyTR = []\n",
        "    historyTS = []\n",
        "    with tf.Session() as self.sess:\n",
        "      self.sess.run(tf.global_variables_initializer())\n",
        "      lossTS = self.test  (testX , testY, verbose)\n",
        "      historyTR.append(lossTS)\n",
        "      historyTS.append(lossTS)\n",
        "      for i in range(epochs):\n",
        "        \n",
        "        lossTR = self.train (dataX , dataY, verbose)\n",
        "        lossTS = self.test  (testX , testY, verbose)\n",
        "        if verbose > 0:\n",
        "          print(\"Epoch \" +str(i+1)+\" : Train Loss = \" + str(lossTR)+\" :  Test Loss = \" + str(lossTS))\n",
        "        historyTR.append(lossTR)\n",
        "        historyTS.append(lossTS)\n",
        "    return historyTR, historyTS"
      ],
      "execution_count": 0,
      "outputs": []
    },
    {
      "metadata": {
        "id": "tLQQTXhZb2N4",
        "colab_type": "text"
      },
      "cell_type": "markdown",
      "source": [
        "# Structure your calls\n",
        "Here you should make the main calls"
      ]
    },
    {
      "metadata": {
        "id": "gH38m2ykb18C",
        "colab_type": "code",
        "outputId": "e585f090-4967-4d35-e20d-80e4d902d84d",
        "colab": {
          "base_uri": "https://localhost:8080/",
          "height": 1858
        }
      },
      "cell_type": "code",
      "source": [
        "x  , y  = loadTrainData ()\n",
        "xt , yt = loadTestData  ()\n",
        "\n",
        "model  = Model ()\n",
        "opt    = Optimizer (model)\n",
        "tr, ts = opt.run (x, y, xt, yt, 100, verbose=1)\n"
      ],
      "execution_count": 5,
      "outputs": [
        {
          "output_type": "stream",
          "text": [
            "WARNING:tensorflow:From <ipython-input-3-5837a2109dfc>:22: dense (from tensorflow.python.layers.core) is deprecated and will be removed in a future version.\n",
            "Instructions for updating:\n",
            "Use keras.layers.dense instead.\n",
            "WARNING:tensorflow:From /usr/local/lib/python3.6/dist-packages/tensorflow/python/framework/op_def_library.py:263: colocate_with (from tensorflow.python.framework.ops) is deprecated and will be removed in a future version.\n",
            "Instructions for updating:\n",
            "Colocations handled automatically by placer.\n",
            "Epoch 1 : Train Loss = 0.5414423816427588 :  Test Loss = 0.24959914684295653\n",
            "Epoch 2 : Train Loss = 0.1821133549772203 :  Test Loss = 0.12759405076503755\n",
            "Epoch 3 : Train Loss = 0.12405825949832797 :  Test Loss = 0.10099260732531548\n",
            "Epoch 4 : Train Loss = 0.10607108416780829 :  Test Loss = 0.08845331221818924\n",
            "Epoch 5 : Train Loss = 0.09441171769797801 :  Test Loss = 0.07891470901668071\n",
            "Epoch 6 : Train Loss = 0.08459535798616707 :  Test Loss = 0.07068615704774857\n",
            "Epoch 7 : Train Loss = 0.07591087008826435 :  Test Loss = 0.06339624635875225\n",
            "Epoch 8 : Train Loss = 0.06815817696601152 :  Test Loss = 0.05690982900559902\n",
            "Epoch 9 : Train Loss = 0.06122243491001427 :  Test Loss = 0.05109430253505707\n",
            "Epoch 10 : Train Loss = 0.0550064846072346 :  Test Loss = 0.0458856163546443\n",
            "Epoch 11 : Train Loss = 0.04943234550766647 :  Test Loss = 0.04121451303362846\n",
            "Epoch 12 : Train Loss = 0.044430674446746705 :  Test Loss = 0.037022707238793376\n",
            "Epoch 13 : Train Loss = 0.03993972282763571 :  Test Loss = 0.03326405640691519\n",
            "Epoch 14 : Train Loss = 0.03590596082340926 :  Test Loss = 0.029884213395416737\n",
            "Epoch 15 : Train Loss = 0.03228087293822318 :  Test Loss = 0.026848969422280787\n",
            "Epoch 16 : Train Loss = 0.02902335241343826 :  Test Loss = 0.024121764302253722\n",
            "Epoch 17 : Train Loss = 0.02609480477962643 :  Test Loss = 0.021674697287380695\n",
            "Epoch 18 : Train Loss = 0.02346200933307409 :  Test Loss = 0.01947233434766531\n",
            "Epoch 19 : Train Loss = 0.021094935789238663 :  Test Loss = 0.01749103032052517\n",
            "Epoch 20 : Train Loss = 0.018967192433774472 :  Test Loss = 0.015716650616377593\n",
            "Epoch 21 : Train Loss = 0.01705406636884436 :  Test Loss = 0.014116520993411541\n",
            "Epoch 22 : Train Loss = 0.015334803397767246 :  Test Loss = 0.012684667157009244\n",
            "Epoch 23 : Train Loss = 0.013789455638732762 :  Test Loss = 0.011396869225427509\n",
            "Epoch 24 : Train Loss = 0.012400833007879555 :  Test Loss = 0.010237991251051426\n",
            "Epoch 25 : Train Loss = 0.011153286589309573 :  Test Loss = 0.00919946962967515\n",
            "Epoch 26 : Train Loss = 0.010032508293166757 :  Test Loss = 0.008267319854348898\n",
            "Epoch 27 : Train Loss = 0.009025886881398036 :  Test Loss = 0.007431264780461788\n",
            "Epoch 28 : Train Loss = 0.008122063173446804 :  Test Loss = 0.006680633104406297\n",
            "Epoch 29 : Train Loss = 0.007310609204228967 :  Test Loss = 0.006007614475674927\n",
            "Epoch 30 : Train Loss = 0.006582356726517901 :  Test Loss = 0.005404473724775016\n",
            "Epoch 31 : Train Loss = 0.005928834149148315 :  Test Loss = 0.004864088213071227\n",
            "Epoch 32 : Train Loss = 0.005342596263275482 :  Test Loss = 0.004378901980817318\n",
            "Epoch 33 : Train Loss = 0.004816831904929131 :  Test Loss = 0.003944249229971319\n",
            "Epoch 34 : Train Loss = 0.004345354380086064 :  Test Loss = 0.0035556646063923834\n",
            "Epoch 35 : Train Loss = 0.003922578688710928 :  Test Loss = 0.0032068078056909145\n",
            "Epoch 36 : Train Loss = 0.003543713517137803 :  Test Loss = 0.0028955550165846943\n",
            "Epoch 37 : Train Loss = 0.00320414850267116 :  Test Loss = 0.002617245260626078\n",
            "Epoch 38 : Train Loss = 0.0028999359658337196 :  Test Loss = 0.002367473905906081\n",
            "Epoch 39 : Train Loss = 0.0026273206813493743 :  Test Loss = 0.0021448435494676233\n",
            "Epoch 40 : Train Loss = 0.0023832813303451984 :  Test Loss = 0.001945417106617242\n",
            "Epoch 41 : Train Loss = 0.0021647724578506312 :  Test Loss = 0.0017669798689894378\n",
            "Epoch 42 : Train Loss = 0.0019692030330188573 :  Test Loss = 0.0016069564968347549\n",
            "Epoch 43 : Train Loss = 0.0017941060350858606 :  Test Loss = 0.00146422908292152\n",
            "Epoch 44 : Train Loss = 0.0016374233616224957 :  Test Loss = 0.001337339828023687\n",
            "Epoch 45 : Train Loss = 0.0014971939070674125 :  Test Loss = 0.0012241293443366885\n",
            "Epoch 46 : Train Loss = 0.0013717745304456911 :  Test Loss = 0.0011229958501644433\n",
            "Epoch 47 : Train Loss = 0.0012595605916430942 :  Test Loss = 0.0010327204247005284\n",
            "Epoch 48 : Train Loss = 0.0011592136931722053 :  Test Loss = 0.0009522068779915571\n",
            "Epoch 49 : Train Loss = 0.0010694883510877844 :  Test Loss = 0.0008801906078588217\n",
            "Epoch 50 : Train Loss = 0.0009892513468948891 :  Test Loss = 0.0008163015329046175\n",
            "Epoch 51 : Train Loss = 0.0009175335734908003 :  Test Loss = 0.0007592026377096772\n",
            "Epoch 52 : Train Loss = 0.0008534038124780636 :  Test Loss = 0.0007078963826643303\n",
            "Epoch 53 : Train Loss = 0.0007961144815199077 :  Test Loss = 0.000662754759832751\n",
            "Epoch 54 : Train Loss = 0.0007449078670470045 :  Test Loss = 0.0006227315549040213\n",
            "Epoch 55 : Train Loss = 0.0006991559797315858 :  Test Loss = 0.0005865987885044887\n",
            "Epoch 56 : Train Loss = 0.000658292580919806 :  Test Loss = 0.0005546046275412663\n",
            "Epoch 57 : Train Loss = 0.0006217732008663006 :  Test Loss = 0.0005264177758363076\n",
            "Epoch 58 : Train Loss = 0.0005891485815955093 :  Test Loss = 0.0005010557797504589\n",
            "Epoch 59 : Train Loss = 0.0005600033372611505 :  Test Loss = 0.00047866004751995206\n",
            "Epoch 60 : Train Loss = 0.0005339710309490329 :  Test Loss = 0.00045881723053753376\n",
            "Epoch 61 : Train Loss = 0.0005107142674241913 :  Test Loss = 0.0004409536297316663\n",
            "Epoch 62 : Train Loss = 0.0004899391413637204 :  Test Loss = 0.0004252305720001459\n",
            "Epoch 63 : Train Loss = 0.00047139836015412586 :  Test Loss = 0.0004112084483494982\n",
            "Epoch 64 : Train Loss = 0.00045483390413573945 :  Test Loss = 0.0003988804557593539\n",
            "Epoch 65 : Train Loss = 0.00044004798415699044 :  Test Loss = 0.00038801070186309514\n",
            "Epoch 66 : Train Loss = 0.00042684474593261256 :  Test Loss = 0.0003783702806686051\n",
            "Epoch 67 : Train Loss = 0.00041506175744143546 :  Test Loss = 0.0003696448664413765\n",
            "Epoch 68 : Train Loss = 0.00040455790011037604 :  Test Loss = 0.00036211763945175334\n",
            "Epoch 69 : Train Loss = 0.0003951794288950623 :  Test Loss = 0.000355425629823003\n",
            "Epoch 70 : Train Loss = 0.000386810253978183 :  Test Loss = 0.00034954339498654007\n",
            "Epoch 71 : Train Loss = 0.0003793350022751838 :  Test Loss = 0.00034434408007655293\n",
            "Epoch 72 : Train Loss = 0.00037267001045984216 :  Test Loss = 0.0003396559754037298\n",
            "Epoch 73 : Train Loss = 0.00036670355661772193 :  Test Loss = 0.0003359352980623953\n",
            "Epoch 74 : Train Loss = 0.0003614137540716911 :  Test Loss = 0.000332258858543355\n",
            "Epoch 75 : Train Loss = 0.00035667672583804234 :  Test Loss = 0.0003290017513791099\n",
            "Epoch 76 : Train Loss = 0.00035243429575348273 :  Test Loss = 0.00032623045553918927\n",
            "Epoch 77 : Train Loss = 0.0003486650631966768 :  Test Loss = 0.0003238276753108948\n",
            "Epoch 78 : Train Loss = 0.0003452875951261376 :  Test Loss = 0.00032150286860996855\n",
            "Epoch 79 : Train Loss = 0.00034228200382494835 :  Test Loss = 0.0003195173921994865\n",
            "Epoch 80 : Train Loss = 0.0003396044513065135 :  Test Loss = 0.00031790421489859\n",
            "Epoch 81 : Train Loss = 0.00033721251586393917 :  Test Loss = 0.00031664771522628145\n",
            "Epoch 82 : Train Loss = 0.00033507474514044586 :  Test Loss = 0.00031543948571197686\n",
            "Epoch 83 : Train Loss = 0.00033316985711280724 :  Test Loss = 0.00031434707052540033\n",
            "Epoch 84 : Train Loss = 0.0003314772427911521 :  Test Loss = 0.0003133839592919685\n",
            "Epoch 85 : Train Loss = 0.0003299675601301715 :  Test Loss = 0.0003126543990219943\n",
            "Epoch 86 : Train Loss = 0.0003286175440734951 :  Test Loss = 0.00031207086431095377\n",
            "Epoch 87 : Train Loss = 0.00032741268179961483 :  Test Loss = 0.0003113454702543095\n",
            "Epoch 88 : Train Loss = 0.0003263299686805112 :  Test Loss = 0.00031095787999220194\n",
            "Epoch 89 : Train Loss = 0.00032537286725710146 :  Test Loss = 0.00031049721728777514\n",
            "Epoch 90 : Train Loss = 0.00032451519882306456 :  Test Loss = 0.0003100586691289209\n",
            "Epoch 91 : Train Loss = 0.000323752410527959 :  Test Loss = 0.0003096873639151454\n",
            "Epoch 92 : Train Loss = 0.0003230757411874947 :  Test Loss = 0.00030944241443648935\n",
            "Epoch 93 : Train Loss = 0.0003224615969011211 :  Test Loss = 0.00030938803392928095\n",
            "Epoch 94 : Train Loss = 0.0003219236506629386 :  Test Loss = 0.0003091957842116244\n",
            "Epoch 95 : Train Loss = 0.0003214410874497844 :  Test Loss = 0.00030898657714715225\n",
            "Epoch 96 : Train Loss = 0.0003210059448683751 :  Test Loss = 0.00030881050624884663\n",
            "Epoch 97 : Train Loss = 0.000320610357055557 :  Test Loss = 0.0003084672716795467\n",
            "Epoch 98 : Train Loss = 0.0003202808870264562 :  Test Loss = 0.0003085690361331217\n",
            "Epoch 99 : Train Loss = 0.00031997103559115204 :  Test Loss = 0.0003086551645537838\n",
            "Epoch 100 : Train Loss = 0.00031970035902486416 :  Test Loss = 0.0003086367214564234\n"
          ],
          "name": "stdout"
        }
      ]
    },
    {
      "metadata": {
        "id": "8lROgCU6BEoh",
        "colab_type": "text"
      },
      "cell_type": "markdown",
      "source": [
        "# PLOT"
      ]
    },
    {
      "metadata": {
        "id": "qEax4t3y_hSx",
        "colab_type": "code",
        "outputId": "17ca9bdc-aae3-4ca2-cba1-91b4ec4d77ef",
        "colab": {
          "base_uri": "https://localhost:8080/",
          "height": 286
        }
      },
      "cell_type": "code",
      "source": [
        "import matplotlib.pyplot as plt\n",
        "import matplotlib\n",
        "print(matplotlib.__version__)\n",
        "plt.plot(ts, label='TEST')\n",
        "plt.plot(tr, label='TRAIN')\n",
        "plt.legend()\n",
        "plt.show()"
      ],
      "execution_count": 6,
      "outputs": [
        {
          "output_type": "stream",
          "text": [
            "3.0.3\n"
          ],
          "name": "stdout"
        },
        {
          "output_type": "display_data",
          "data": {
            "image/png": "[encoded data removed]",
            "text/plain": [
              "<Figure size 432x288 with 1 Axes>"
            ]
          },
          "metadata": {
            "tags": []
          }
        }
      ]
    },
    {
      "metadata": {
        "id": "oqRlbPI6xvsj",
        "colab_type": "text"
      },
      "cell_type": "markdown",
      "source": [
        "# EXERCISE 0\n",
        "## Your goal is to:\n",
        "### Expand this model to receive multiple inputs and the output must be of size 2.\n",
        "Your network must receive 5 different numbers, and output the sumation of cossines of the numbers and the summation of the sines.\n",
        "\n",
        "### Add L2 and L1 regularizations directly on the loss function and include their coeficcients as hyper-parameters\n",
        "\n",
        "### Add comments to this code\n",
        "\n",
        "## Feel free to make changes, as long as they make the code clear and keep a similar structure"
      ]
    },
    {
      "metadata": {
        "id": "cQWnhrVomoIK",
        "colab_type": "text"
      },
      "cell_type": "markdown",
      "source": [
        "# Creating the data\n",
        "\n",
        "As described, the input will be five numbers"
      ]
    },
    {
      "metadata": {
        "id": "7WANOKmvmlno",
        "colab_type": "code",
        "colab": {}
      },
      "cell_type": "code",
      "source": [
        "def loadTrainData():\n",
        "  x = np.random.rand(16000,5)\n",
        "  y = np.vstack([np.sum(np.sin(x),axis=1), np.sum(np.cos(x),axis=1)]).transpose()\n",
        "  return x , y\n",
        "\n",
        "def loadTestData():\n",
        "  x = np.random.rand(160,5)\n",
        "  y = np.vstack([np.sum(np.sin(x),axis=1), np.sum(np.cos(x),axis=1)]).transpose()\n",
        "  return x , y"
      ],
      "execution_count": 0,
      "outputs": []
    },
    {
      "metadata": {
        "id": "KRdxqz65ojES",
        "colab_type": "text"
      },
      "cell_type": "markdown",
      "source": [
        "# Creating the model class\n",
        "Sine the input and output have changed, the model must be modified. The input is modified to accept 5 element arrays, and the output is now 2 elements.\n",
        "The regularization is added to the dense layers, since the regularization must be aplied to the weights, and the \"dense\" layer does not allow for the graph to get acces to the weights. Thus, the contrib regularizations have been used."
      ]
    },
    {
      "metadata": {
        "id": "4Fg-XsKFhc0h",
        "colab_type": "code",
        "colab": {}
      },
      "cell_type": "code",
      "source": [
        "class Model:\n",
        "  \"\"\"\n",
        "  Tensor Flow fully connected network model. \n",
        "  `Model(learning_rate=0.0001, mini_batches=16, neurons=[4], reg_type=\"L2\", reg=0.01)`\n",
        "  Parameters\n",
        "  \n",
        "  learning_rate : the learning rate parameter for the optimization method\n",
        "  mini_batches : Number of elements in every batch for the learning phase\n",
        "  layers : list of integers representing the number of neurons on every layer\n",
        "  reg : list of regularization coeficients for L1 and L2\n",
        "  \"\"\"\n",
        "  def __init__(self,learning_rate=0.0001,\n",
        "               mini_batches=16,\n",
        "               layers=[4,4],\n",
        "               reg_type=\"L2\",\n",
        "               reg=0.01):\n",
        "    \n",
        "    self.lr = learning_rate\n",
        "    self.mb = mini_batches\n",
        "    \n",
        "    # Input and labels can only be float32\n",
        "    self.input = tf.placeholder(tf.float32, shape=(None, 5), name=\"X\")\n",
        "    self.label = tf.placeholder(tf.float32, shape=(None, 2), name=\"Y\")\n",
        "    \n",
        "    # Setup regularizer\n",
        "    if reg_type in [\"L1\",\"l1\"]:\n",
        "      regularizer = tf.contrib.layers.l1_regularizer(reg)\n",
        "    else:\n",
        "      regularizer = tf.contrib.layers.l2_regularizer(reg)\n",
        "    \n",
        "    # Initialization of model\n",
        "    self.output = self.input\n",
        "    for neurons in layers:\n",
        "      self.output = tf.layers.dense(self.output, \n",
        "                                    neurons, \n",
        "                                    kernel_regularizer=regularizer)\n",
        "      \n",
        "    self.output = tf.layers.dense(self.output, 2) # last dense layer\n",
        "    \n",
        "    # Definition of the loss\n",
        "    self.loss = (self.output - self.label) * (self.output - self.label)\n",
        "    self.loss = tf.reduce_mean(self.loss)\n",
        "    \n",
        "  def get_loss(self):\n",
        "    \"\"\"loss getter method\"\"\"\n",
        "    return self.loss\n",
        "  \n",
        "  def get_xy(self):\n",
        "    \"\"\"input and label getter\"\"\"\n",
        "    return self.input, self.label\n",
        "  \n",
        "  def get_output(self):\n",
        "    \"\"\"output getter\"\"\"\n",
        "    return self.output"
      ],
      "execution_count": 0,
      "outputs": []
    },
    {
      "metadata": {
        "id": "KMKYUetMocJt",
        "colab_type": "code",
        "colab": {}
      },
      "cell_type": "code",
      "source": [
        "class Optimizer:\n",
        "  \"\"\"\n",
        "  Learning algorithm for a TensorFlow model\n",
        "  `Optimizer(model)`\n",
        "  model : a fully connected TensorFlow neural network\n",
        "  \"\"\"\n",
        "  def __init__(self,model):\n",
        "    self.model     = model\n",
        "    self.loss      = model.get_loss()\n",
        "    self.X, self.Y = model.get_xy()\n",
        "    self.mb        = model.mb # Mini batches\n",
        "    self.output    = model.get_output()\n",
        "    \n",
        "    # Using GD as optimizier algorithm\n",
        "    self.opt       = tf.train.GradientDescentOptimizer(learning_rate = model.lr)\n",
        "    self.optAction = self.opt.minimize(self.loss) # minimize loss\n",
        "    \n",
        "  def batching (self, size):\n",
        "    \"\"\"Return the indexes of the input to be used for minibatch\"\"\"\n",
        "    r=np.arange(int(size))\n",
        "    np.random.shuffle(r)\n",
        "    return r\n",
        "  \n",
        "  def train (self, dataX, dataY, verbose):\n",
        "    \"\"\"Training of the NN\"\"\"\n",
        "    i     = 0 # A counter for the number of data processed\n",
        "    loss  = 0 \n",
        "    count = 0 # Another counter, for the number of minibatches required\n",
        "    batchOrder = self.batching(len(dataX)) # Get indexes of batch data\n",
        "#     print (batchOrder)\n",
        "    while (i+self.mb <= len(dataX)): # for all elements in the input \n",
        "      \n",
        "      # get the batch data\n",
        "      mbX, mbY   = dataX[batchOrder[i:i+self.mb]] , dataY[batchOrder[i:i+self.mb]]\n",
        "      \n",
        "      # run optimization\n",
        "      _ , mbLoss = self.sess.run([self.optAction, self.loss],\n",
        "                                   feed_dict={\n",
        "                                       self.X:mbX,\n",
        "                                       self.Y:mbY\n",
        "                                   })\n",
        "      if verbose>1:\n",
        "        print(\"\\t Inner loss: \"+str(mbLoss))\n",
        "          \n",
        "      loss  += mbLoss\n",
        "      i     += self.mb\n",
        "      count += 1\n",
        "    loss = loss / count\n",
        "    return loss\n",
        "  \n",
        "  def test  (self, dataX, dataY, verbose):\n",
        "    i     = 0 # A counter for the number of data processed\n",
        "    loss  = 0\n",
        "    count = 0 # Another counter, for the number of minibatches required\n",
        "    batchOrder = self.batching(len(dataX)) # Get indexes of batch data\n",
        "    \n",
        "    while (i+self.mb <= len(dataX)): # for all elements in the input \n",
        "      \n",
        "      # get test data for the batch  \n",
        "      mbX, mbY   = dataX[i:i+self.mb] , dataY[i:i+self.mb]\n",
        "      \n",
        "      # get the loss on the test set\n",
        "      mbLoss = self.sess.run(self.loss,\n",
        "                                   feed_dict={\n",
        "                                       self.X:mbX,\n",
        "                                       self.Y:mbY\n",
        "                                   })          \n",
        "      loss  += mbLoss\n",
        "      i     += self.mb\n",
        "      count += 1\n",
        "    loss = loss / count\n",
        "    return loss\n",
        "  \n",
        "  def run   (self, dataX, dataY, testX, testY, epochs, verbose=2):\n",
        "    \"\"\"Run the learning phase and return the test and train history\"\"\"\n",
        "    historyTR = []\n",
        "    historyTS = []\n",
        "    with tf.Session() as self.sess:\n",
        "      self.sess.run(tf.global_variables_initializer())\n",
        "      lossTS = self.test  (testX , testY, verbose)\n",
        "      historyTR.append(lossTS)\n",
        "      historyTS.append(lossTS)\n",
        "      for i in range(epochs):\n",
        "        \n",
        "        lossTR = self.train (dataX , dataY, verbose)\n",
        "        lossTS = self.test  (testX , testY, verbose)\n",
        "        if verbose > 0:\n",
        "          print(\"Epoch \" +str(i+1)+\" : Train Loss = \" + str(lossTR)+\" :  Test Loss = \" + str(lossTS))\n",
        "        historyTR.append(lossTR)\n",
        "        historyTS.append(lossTS)\n",
        "    return historyTR, historyTS"
      ],
      "execution_count": 0,
      "outputs": []
    },
    {
      "metadata": {
        "id": "8y1fLKK3pHjo",
        "colab_type": "text"
      },
      "cell_type": "markdown",
      "source": [
        "# Training the model"
      ]
    },
    {
      "metadata": {
        "id": "xWGIEpmno7VQ",
        "colab_type": "code",
        "colab": {
          "base_uri": "https://localhost:8080/",
          "height": 1875
        },
        "outputId": "7e892079-f123-4471-d0d9-61a4c861c735"
      },
      "cell_type": "code",
      "source": [
        "x  , y  = loadTrainData ()\n",
        "xt , yt = loadTestData  ()\n",
        "\n",
        "model  = Model ()\n",
        "opt    = Optimizer (model)\n",
        "tr, ts = opt.run (x, y, xt, yt, 100, verbose=1)"
      ],
      "execution_count": 10,
      "outputs": [
        {
          "output_type": "stream",
          "text": [
            "\n",
            "WARNING: The TensorFlow contrib module will not be included in TensorFlow 2.0.\n",
            "For more information, please see:\n",
            "  * https://github.com/tensorflow/community/blob/master/rfcs/20180907-contrib-sunset.md\n",
            "  * https://github.com/tensorflow/addons\n",
            "If you depend on functionality not listed there, please file an issue.\n",
            "\n",
            "Epoch 1 : Train Loss = 7.072589210271835 :  Test Loss = 2.8836764097213745\n",
            "Epoch 2 : Train Loss = 1.2866219456493855 :  Test Loss = 0.5945340454578399\n",
            "Epoch 3 : Train Loss = 0.5046668979525566 :  Test Loss = 0.45388016402721404\n",
            "Epoch 4 : Train Loss = 0.4437495696246624 :  Test Loss = 0.4245546042919159\n",
            "Epoch 5 : Train Loss = 0.41993327014148235 :  Test Loss = 0.40474575757980347\n",
            "Epoch 6 : Train Loss = 0.4006376529186964 :  Test Loss = 0.3877517953515053\n",
            "Epoch 7 : Train Loss = 0.383642946138978 :  Test Loss = 0.37260630130767824\n",
            "Epoch 8 : Train Loss = 0.3684627807363868 :  Test Loss = 0.35903133302927015\n",
            "Epoch 9 : Train Loss = 0.35480024802684784 :  Test Loss = 0.3466470569372177\n",
            "Epoch 10 : Train Loss = 0.34241489925980567 :  Test Loss = 0.335419724881649\n",
            "Epoch 11 : Train Loss = 0.3311268806904554 :  Test Loss = 0.32513405829668046\n",
            "Epoch 12 : Train Loss = 0.32079011572897437 :  Test Loss = 0.3156635478138924\n",
            "Epoch 13 : Train Loss = 0.31127964286506177 :  Test Loss = 0.30695459097623823\n",
            "Epoch 14 : Train Loss = 0.30249869838356974 :  Test Loss = 0.2988592818379402\n",
            "Epoch 15 : Train Loss = 0.2943481870293617 :  Test Loss = 0.2913081422448158\n",
            "Epoch 16 : Train Loss = 0.28675052492320535 :  Test Loss = 0.284254652261734\n",
            "Epoch 17 : Train Loss = 0.2796614848747849 :  Test Loss = 0.27765838503837587\n",
            "Epoch 18 : Train Loss = 0.2730286786407232 :  Test Loss = 0.2713702693581581\n",
            "Epoch 19 : Train Loss = 0.2667935596331954 :  Test Loss = 0.2654903128743172\n",
            "Epoch 20 : Train Loss = 0.26091704580187797 :  Test Loss = 0.2599716976284981\n",
            "Epoch 21 : Train Loss = 0.25536255629360677 :  Test Loss = 0.2546886831521988\n",
            "Epoch 22 : Train Loss = 0.2500887689217925 :  Test Loss = 0.24969296753406525\n",
            "Epoch 23 : Train Loss = 0.2451107096672058 :  Test Loss = 0.244952791929245\n",
            "Epoch 24 : Train Loss = 0.24036153164505958 :  Test Loss = 0.2404335543513298\n",
            "Epoch 25 : Train Loss = 0.2358335173651576 :  Test Loss = 0.2360834911465645\n",
            "Epoch 26 : Train Loss = 0.23151329378038646 :  Test Loss = 0.23195018023252487\n",
            "Epoch 27 : Train Loss = 0.22737149818241595 :  Test Loss = 0.22797856628894805\n",
            "Epoch 28 : Train Loss = 0.22339289593696593 :  Test Loss = 0.22419022023677826\n",
            "Epoch 29 : Train Loss = 0.2195807281769812 :  Test Loss = 0.22050614207983016\n",
            "Epoch 30 : Train Loss = 0.21591425151750446 :  Test Loss = 0.21694037690758705\n",
            "Epoch 31 : Train Loss = 0.21237007819116116 :  Test Loss = 0.21347733065485955\n",
            "Epoch 32 : Train Loss = 0.20895002268999815 :  Test Loss = 0.21015894263982773\n",
            "Epoch 33 : Train Loss = 0.20563605318963527 :  Test Loss = 0.20693743005394935\n",
            "Epoch 34 : Train Loss = 0.2024261827506125 :  Test Loss = 0.20381410121917726\n",
            "Epoch 35 : Train Loss = 0.1993121145069599 :  Test Loss = 0.20075868740677832\n",
            "Epoch 36 : Train Loss = 0.19627433466911315 :  Test Loss = 0.19784616231918334\n",
            "Epoch 37 : Train Loss = 0.193333282135427 :  Test Loss = 0.19492679685354233\n",
            "Epoch 38 : Train Loss = 0.19045290556550026 :  Test Loss = 0.19208435863256454\n",
            "Epoch 39 : Train Loss = 0.18763955491036177 :  Test Loss = 0.18935266137123108\n",
            "Epoch 40 : Train Loss = 0.1848909470140934 :  Test Loss = 0.1866455592215061\n",
            "Epoch 41 : Train Loss = 0.18219955978915095 :  Test Loss = 0.18396648913621902\n",
            "Epoch 42 : Train Loss = 0.17955399291217328 :  Test Loss = 0.18134324699640275\n",
            "Epoch 43 : Train Loss = 0.1769585750065744 :  Test Loss = 0.1788216568529606\n",
            "Epoch 44 : Train Loss = 0.17440666295588017 :  Test Loss = 0.17625414654612542\n",
            "Epoch 45 : Train Loss = 0.17189707406237723 :  Test Loss = 0.17377417534589767\n",
            "Epoch 46 : Train Loss = 0.1694204090088606 :  Test Loss = 0.17133673951029776\n",
            "Epoch 47 : Train Loss = 0.16697856702283026 :  Test Loss = 0.16889969110488892\n",
            "Epoch 48 : Train Loss = 0.1645637455433607 :  Test Loss = 0.1664982683956623\n",
            "Epoch 49 : Train Loss = 0.162168915130198 :  Test Loss = 0.1640944689512253\n",
            "Epoch 50 : Train Loss = 0.15979916977509856 :  Test Loss = 0.16180749535560607\n",
            "Epoch 51 : Train Loss = 0.15746421241015196 :  Test Loss = 0.1594267964363098\n",
            "Epoch 52 : Train Loss = 0.15513877369835974 :  Test Loss = 0.15708614960312844\n",
            "Epoch 53 : Train Loss = 0.15283662531897427 :  Test Loss = 0.1547890290617943\n",
            "Epoch 54 : Train Loss = 0.15054361798241733 :  Test Loss = 0.15251204147934913\n",
            "Epoch 55 : Train Loss = 0.1482586433775723 :  Test Loss = 0.15025099739432335\n",
            "Epoch 56 : Train Loss = 0.14599262875691058 :  Test Loss = 0.14795163720846177\n",
            "Epoch 57 : Train Loss = 0.14373413353413345 :  Test Loss = 0.1457257091999054\n",
            "Epoch 58 : Train Loss = 0.14148667957633734 :  Test Loss = 0.1434388391673565\n",
            "Epoch 59 : Train Loss = 0.13924471129104496 :  Test Loss = 0.1411793790757656\n",
            "Epoch 60 : Train Loss = 0.1370081870108843 :  Test Loss = 0.13895680531859397\n",
            "Epoch 61 : Train Loss = 0.13477924821153284 :  Test Loss = 0.1367243595421314\n",
            "Epoch 62 : Train Loss = 0.1325497017838061 :  Test Loss = 0.13448745086789132\n",
            "Epoch 63 : Train Loss = 0.1303260238841176 :  Test Loss = 0.13223332017660142\n",
            "Epoch 64 : Train Loss = 0.12810512440279126 :  Test Loss = 0.12999845445156097\n",
            "Epoch 65 : Train Loss = 0.12588455656543374 :  Test Loss = 0.12777431458234786\n",
            "Epoch 66 : Train Loss = 0.12366123745962977 :  Test Loss = 0.12551238834857942\n",
            "Epoch 67 : Train Loss = 0.1214522959664464 :  Test Loss = 0.1233020693063736\n",
            "Epoch 68 : Train Loss = 0.11922977644205093 :  Test Loss = 0.12104836478829384\n",
            "Epoch 69 : Train Loss = 0.11701792695000768 :  Test Loss = 0.1188222099095583\n",
            "Epoch 70 : Train Loss = 0.11480053693801165 :  Test Loss = 0.11659675762057305\n",
            "Epoch 71 : Train Loss = 0.11258672019466757 :  Test Loss = 0.11434962898492813\n",
            "Epoch 72 : Train Loss = 0.11036629308201372 :  Test Loss = 0.1121002934873104\n",
            "Epoch 73 : Train Loss = 0.10815771028026938 :  Test Loss = 0.10986368954181672\n",
            "Epoch 74 : Train Loss = 0.10593508977815509 :  Test Loss = 0.10761109180748463\n",
            "Epoch 75 : Train Loss = 0.10373164349980653 :  Test Loss = 0.10540774539113044\n",
            "Epoch 76 : Train Loss = 0.10152267192304135 :  Test Loss = 0.10315836519002915\n",
            "Epoch 77 : Train Loss = 0.0993116258122027 :  Test Loss = 0.10093337744474411\n",
            "Epoch 78 : Train Loss = 0.09711064266227186 :  Test Loss = 0.09870293773710728\n",
            "Epoch 79 : Train Loss = 0.09490562120266259 :  Test Loss = 0.09649187177419663\n",
            "Epoch 80 : Train Loss = 0.0927164469063282 :  Test Loss = 0.09424027465283871\n",
            "Epoch 81 : Train Loss = 0.0905229610837996 :  Test Loss = 0.09201638475060463\n",
            "Epoch 82 : Train Loss = 0.08833988464437426 :  Test Loss = 0.08978582359850407\n",
            "Epoch 83 : Train Loss = 0.08615964757278562 :  Test Loss = 0.08756589032709598\n",
            "Epoch 84 : Train Loss = 0.08398965705372394 :  Test Loss = 0.08538788035511971\n",
            "Epoch 85 : Train Loss = 0.08182875399664044 :  Test Loss = 0.08316570892930031\n",
            "Epoch 86 : Train Loss = 0.07968361198157072 :  Test Loss = 0.08099293150007725\n",
            "Epoch 87 : Train Loss = 0.07754734441265464 :  Test Loss = 0.07882109060883521\n",
            "Epoch 88 : Train Loss = 0.07542286608181893 :  Test Loss = 0.07664806731045246\n",
            "Epoch 89 : Train Loss = 0.07331167430989444 :  Test Loss = 0.07451169230043889\n",
            "Epoch 90 : Train Loss = 0.07122069402039051 :  Test Loss = 0.07237924709916115\n",
            "Epoch 91 : Train Loss = 0.06914475371688604 :  Test Loss = 0.07025248259305954\n",
            "Epoch 92 : Train Loss = 0.06708544958010317 :  Test Loss = 0.06815085932612419\n",
            "Epoch 93 : Train Loss = 0.06505227522365749 :  Test Loss = 0.06607743948698044\n",
            "Epoch 94 : Train Loss = 0.06303369761444629 :  Test Loss = 0.06403518617153167\n",
            "Epoch 95 : Train Loss = 0.06104367297515273 :  Test Loss = 0.061989374458789825\n",
            "Epoch 96 : Train Loss = 0.05907132451981306 :  Test Loss = 0.06000217348337174\n",
            "Epoch 97 : Train Loss = 0.05713357677310705 :  Test Loss = 0.05799784809350968\n",
            "Epoch 98 : Train Loss = 0.055218550216406585 :  Test Loss = 0.05604086052626371\n",
            "Epoch 99 : Train Loss = 0.053328261913731696 :  Test Loss = 0.054109424352645874\n",
            "Epoch 100 : Train Loss = 0.05148060110211372 :  Test Loss = 0.05221879873424769\n"
          ],
          "name": "stdout"
        }
      ]
    },
    {
      "metadata": {
        "id": "OtX-54WTpNgs",
        "colab_type": "text"
      },
      "cell_type": "markdown",
      "source": [
        "# Plotting the learning curve"
      ]
    },
    {
      "metadata": {
        "id": "Z16dU8Pso_Co",
        "colab_type": "code",
        "colab": {
          "base_uri": "https://localhost:8080/",
          "height": 286
        },
        "outputId": "777e500d-a5f1-4fc5-dbbd-b00c24e730c4"
      },
      "cell_type": "code",
      "source": [
        "import matplotlib.pyplot as plt\n",
        "import matplotlib\n",
        "print(matplotlib.__version__)\n",
        "plt.plot(ts, label='TEST')\n",
        "plt.plot(tr, label='TRAIN')\n",
        "plt.legend()\n",
        "plt.show()"
      ],
      "execution_count": 11,
      "outputs": [
        {
          "output_type": "stream",
          "text": [
            "3.0.3\n"
          ],
          "name": "stdout"
        },
        {
          "output_type": "display_data",
          "data": {
            "image/png": "[encoded data removed]",
            "text/plain": [
              "<Figure size 432x288 with 1 Axes>"
            ]
          },
          "metadata": {
            "tags": []
          }
        }
      ]
    }
  ]
}