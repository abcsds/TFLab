{
  "nbformat": 4,
  "nbformat_minor": 0,
  "metadata": {
    "colab": {
      "name": "Example.ipynb",
      "version": "0.3.2",
      "provenance": []
    },
    "kernelspec": {
      "name": "python3",
      "display_name": "Python 3"
    }
  },
  "cells": [
    {
      "metadata": {
        "id": "WUmecs2bXdww",
        "colab_type": "text"
      },
      "cell_type": "markdown",
      "source": [
        "# Load pacakages\n",
        "For our exercises, you should always use the standar packages from Google Colab unless stated otherwise."
      ]
    },
    {
      "metadata": {
        "id": "Mr3-yF_1XGO7",
        "colab_type": "code",
        "colab": {
          "base_uri": "https://localhost:8080/",
          "height": 71
        },
        "outputId": "e2f36816-12d1-49b2-be80-20aa33fd6f55"
      },
      "cell_type": "code",
      "source": [
        "import tensorflow as tf\n",
        "import numpy as np\n",
        "import pandas as pd\n",
        "print(tf.__version__)\n",
        "print(np.__version__)\n",
        "print(pd.__version__)"
      ],
      "execution_count": 10,
      "outputs": [
        {
          "output_type": "stream",
          "text": [
            "1.13.1\n",
            "1.14.6\n",
            "0.22.0\n"
          ],
          "name": "stdout"
        }
      ]
    },
    {
      "metadata": {
        "id": "1bD2az2VXwtx",
        "colab_type": "text"
      },
      "cell_type": "markdown",
      "source": [
        "# Load data function\n",
        "Here you must write down your data loading function"
      ]
    },
    {
      "metadata": {
        "id": "a8w13xdzXtNe",
        "colab_type": "code",
        "colab": {}
      },
      "cell_type": "code",
      "source": [
        "def loadTrainData (default_dir=\"/default/path/if/needed\"):\n",
        "  x = np.random.rand(16000,1) # write our data loading procedures\n",
        "  y = np.sin(x)\n",
        "  return x , y\n",
        "\n",
        "def loadTestData (default_dir=\"/default/path/if/needed\"):\n",
        "  x = np.random.rand(160,1) # write our data loading procedures\n",
        "  y = np.sin(x)\n",
        "  return x , y"
      ],
      "execution_count": 0,
      "outputs": []
    },
    {
      "metadata": {
        "id": "CYjifVRqbLMr",
        "colab_type": "text"
      },
      "cell_type": "markdown",
      "source": [
        "# Structure your model\n",
        "Create a class to define and use your model"
      ]
    },
    {
      "metadata": {
        "id": "y0Fv2md1YyKx",
        "colab_type": "code",
        "colab": {}
      },
      "cell_type": "code",
      "source": [
        "class Model:\n",
        "  def __init__(self,learning_rate=0.0001, mini_batches=16, neurons=[4]):\n",
        "    self.lr = learning_rate\n",
        "    self.mb = mini_batches\n",
        "    \n",
        "    self.input = tf.placeholder(tf.float32, shape=(None, 1), name=\"X\")\n",
        "    self.label = tf.placeholder(tf.float32, shape=(None, 1), name=\"Y\")\n",
        "    \n",
        "    self.output = self.input\n",
        "    for neuron in neurons:\n",
        "      self.output = tf.layers.dense(self.output, neuron)\n",
        "      \n",
        "    self.output = tf.layers.dense(self.output, 1)\n",
        "    \n",
        "    self.loss = (self.output - self.label) * (self.output - self.label)\n",
        "    self.loss = tf.reduce_mean(self.loss)\n",
        "    \n",
        "  def get_loss(self):\n",
        "    return self.loss\n",
        "  \n",
        "  def get_xy(self):\n",
        "    return self.input, self.label\n",
        "  \n",
        "  def get_output(self):\n",
        "    return self.output"
      ],
      "execution_count": 0,
      "outputs": []
    },
    {
      "metadata": {
        "id": "dG8wbG2IbT2_",
        "colab_type": "text"
      },
      "cell_type": "markdown",
      "source": [
        "# Create an optimization routine\n",
        "Define your optimization steps"
      ]
    },
    {
      "metadata": {
        "id": "KaVxN-qMaY9v",
        "colab_type": "code",
        "colab": {}
      },
      "cell_type": "code",
      "source": [
        "class Optimizer:\n",
        "  def __init__(self,model):\n",
        "    self.model     = model\n",
        "    self.loss      = model.get_loss()\n",
        "    self.X, self.Y = model.get_xy()\n",
        "    self.mb        = model.mb\n",
        "    self.output    = model.get_output()\n",
        "    \n",
        "    self.opt       = tf.train.GradientDescentOptimizer(learning_rate = model.lr)\n",
        "    self.optAction = self.opt.minimize(self.loss)\n",
        "    \n",
        "  def batching (self, size):\n",
        "#     print (size)\n",
        "    r=np.arange(int(size))\n",
        "    np.random.shuffle(r)\n",
        "#     print(r)\n",
        "    return r\n",
        "  \n",
        "  def train (self, dataX, dataY, verbose):\n",
        "    i     = 0\n",
        "    loss  = 0\n",
        "    count = 0\n",
        "    batchOrder = self.batching(len(dataX))\n",
        "#     print (batchOrder)\n",
        "    while (i+self.mb <= len(dataX)):\n",
        "        \n",
        "      mbX, mbY   = dataX[batchOrder[i:i+self.mb]] , dataY[batchOrder[i:i+self.mb]]\n",
        "        \n",
        "      _ , mbLoss = self.sess.run([self.optAction, self.loss],\n",
        "                                   feed_dict={\n",
        "                                       self.X:mbX,\n",
        "                                       self.Y:mbY\n",
        "                                   })\n",
        "      if verbose>1:\n",
        "        print(\"\\t Inner loss: \"+str(mbLoss))\n",
        "          \n",
        "      loss  += mbLoss\n",
        "      i     += self.mb\n",
        "      count += 1\n",
        "    loss = loss / count\n",
        "    return loss\n",
        "  \n",
        "  def test  (self, dataX, dataY, verbose):\n",
        "    i     = 0\n",
        "    loss  = 0\n",
        "    count = 0\n",
        "    batchOrder = self.batching(len(dataX)) \n",
        "    while (i+self.mb <= len(dataX)):\n",
        "        \n",
        "      mbX, mbY   = dataX[i:i+self.mb] , dataY[i:i+self.mb]\n",
        "        \n",
        "      mbLoss = self.sess.run(self.loss,\n",
        "                                   feed_dict={\n",
        "                                       self.X:mbX,\n",
        "                                       self.Y:mbY\n",
        "                                   })          \n",
        "      loss  += mbLoss\n",
        "      i     += self.mb\n",
        "      count += 1\n",
        "    loss = loss / count\n",
        "    return loss\n",
        "  \n",
        "  def run   (self, dataX, dataY, testX, testY, epochs, verbose=2):\n",
        "    historyTR = []\n",
        "    historyTS = []\n",
        "    with tf.Session() as self.sess:\n",
        "      self.sess.run(tf.global_variables_initializer())\n",
        "      lossTS = self.test  (testX , testY, verbose)\n",
        "      historyTR.append(lossTS)\n",
        "      historyTS.append(lossTS)\n",
        "      for i in range(epochs):\n",
        "        \n",
        "        lossTR = self.train (dataX , dataY, verbose)\n",
        "        lossTS = self.test  (testX , testY, verbose)\n",
        "        if verbose > 0:\n",
        "          print(\"Epoch \" +str(i+1)+\" : Train Loss = \" + str(lossTR)+\" :  Test Loss = \" + str(lossTS))\n",
        "        historyTR.append(lossTR)\n",
        "        historyTS.append(lossTS)\n",
        "    return historyTR, historyTS"
      ],
      "execution_count": 0,
      "outputs": []
    },
    {
      "metadata": {
        "id": "tLQQTXhZb2N4",
        "colab_type": "text"
      },
      "cell_type": "markdown",
      "source": [
        "# Structure your calls\n",
        "Here you should make the main calls"
      ]
    },
    {
      "metadata": {
        "id": "gH38m2ykb18C",
        "colab_type": "code",
        "outputId": "1b118c91-5a14-4a27-ff28-f98818221e28",
        "colab": {
          "base_uri": "https://localhost:8080/",
          "height": 1864
        }
      },
      "cell_type": "code",
      "source": [
        "x  , y  = loadTrainData ()\n",
        "xt , yt = loadTestData  ()\n",
        "\n",
        "model  = Model ()\n",
        "opt    = Optimizer (model)\n",
        "tr, ts = opt.run (x, y, xt, yt, 100, verbose=1)\n"
      ],
      "execution_count": 29,
      "outputs": [
        {
          "output_type": "stream",
          "text": [
            "Epoch 1 : Train Loss = 0.02467498129233718 :  Test Loss = 0.010996215930208563\n",
            "Epoch 2 : Train Loss = 0.007199721531476825 :  Test Loss = 0.004542905814014375\n",
            "Epoch 3 : Train Loss = 0.0037176029487745836 :  Test Loss = 0.003206985001452267\n",
            "Epoch 4 : Train Loss = 0.0028649217528873123 :  Test Loss = 0.0027817410998977722\n",
            "Epoch 5 : Train Loss = 0.0025152299426845276 :  Test Loss = 0.0025209138169884683\n",
            "Epoch 6 : Train Loss = 0.002276085881108884 :  Test Loss = 0.0023009659955278037\n",
            "Epoch 7 : Train Loss = 0.0020747595785651357 :  Test Loss = 0.0021023256005719302\n",
            "Epoch 8 : Train Loss = 0.0018960576488170774 :  Test Loss = 0.0019226024742238224\n",
            "Epoch 9 : Train Loss = 0.0017357862322533038 :  Test Loss = 0.00176035639597103\n",
            "Epoch 10 : Train Loss = 0.0015917070283030625 :  Test Loss = 0.0016138205071911215\n",
            "Epoch 11 : Train Loss = 0.0014621105112018996 :  Test Loss = 0.0014817478600889443\n",
            "Epoch 12 : Train Loss = 0.0013456452958635055 :  Test Loss = 0.0013636514078825713\n",
            "Epoch 13 : Train Loss = 0.0012408867511549033 :  Test Loss = 0.0012571731407660992\n",
            "Epoch 14 : Train Loss = 0.0011467510267102626 :  Test Loss = 0.0011618273274507374\n",
            "Epoch 15 : Train Loss = 0.0010621241111366544 :  Test Loss = 0.0010765214101411402\n",
            "Epoch 16 : Train Loss = 0.000986066076264251 :  Test Loss = 0.0010000923299230634\n",
            "Epoch 17 : Train Loss = 0.0009177513633330818 :  Test Loss = 0.0009310422698035836\n",
            "Epoch 18 : Train Loss = 0.0008563349336327519 :  Test Loss = 0.0008692925388459116\n",
            "Epoch 19 : Train Loss = 0.0008011438085522969 :  Test Loss = 0.0008140024903696031\n",
            "Epoch 20 : Train Loss = 0.0007516146028938238 :  Test Loss = 0.0007642004813533277\n",
            "Epoch 21 : Train Loss = 0.0007071177977049956 :  Test Loss = 0.000719647342339158\n",
            "Epoch 22 : Train Loss = 0.0006671651608194225 :  Test Loss = 0.0006796776840928942\n",
            "Epoch 23 : Train Loss = 0.0006312689982005395 :  Test Loss = 0.0006437262258259579\n",
            "Epoch 24 : Train Loss = 0.0005990235316858161 :  Test Loss = 0.0006116632925113663\n",
            "Epoch 25 : Train Loss = 0.000570071957896289 :  Test Loss = 0.0005828326451592147\n",
            "Epoch 26 : Train Loss = 0.0005440561057039303 :  Test Loss = 0.0005567620013607666\n",
            "Epoch 27 : Train Loss = 0.0005207374338715453 :  Test Loss = 0.0005337636714102701\n",
            "Epoch 28 : Train Loss = 0.0004997959239117335 :  Test Loss = 0.0005131968617206439\n",
            "Epoch 29 : Train Loss = 0.00048098824176122433 :  Test Loss = 0.0004946191183989868\n",
            "Epoch 30 : Train Loss = 0.0004641270344145596 :  Test Loss = 0.0004783091164426878\n",
            "Epoch 31 : Train Loss = 0.00044896193691238296 :  Test Loss = 0.00046339938708115367\n",
            "Epoch 32 : Train Loss = 0.00043536538537591695 :  Test Loss = 0.000450504757463932\n",
            "Epoch 33 : Train Loss = 0.00042317168816225604 :  Test Loss = 0.0004387598892208189\n",
            "Epoch 34 : Train Loss = 0.00041222340904641894 :  Test Loss = 0.00042822556861210614\n",
            "Epoch 35 : Train Loss = 0.00040239536369335836 :  Test Loss = 0.00041877468465827404\n",
            "Epoch 36 : Train Loss = 0.0003935762660257751 :  Test Loss = 0.0004104271065443754\n"
          ],
          "name": "stdout"
        },
        {
          "output_type": "error",
          "ename": "KeyboardInterrupt",
          "evalue": "ignored",
          "traceback": [
            "\u001b[0;31m---------------------------------------------------------------------------\u001b[0m",
            "\u001b[0;31mKeyboardInterrupt\u001b[0m                         Traceback (most recent call last)",
            "\u001b[0;32m<ipython-input-29-f9f3258f7f42>\u001b[0m in \u001b[0;36m<module>\u001b[0;34m()\u001b[0m\n\u001b[1;32m      4\u001b[0m \u001b[0mmodel\u001b[0m  \u001b[0;34m=\u001b[0m \u001b[0mModel\u001b[0m \u001b[0;34m(\u001b[0m\u001b[0;34m)\u001b[0m\u001b[0;34m\u001b[0m\u001b[0;34m\u001b[0m\u001b[0m\n\u001b[1;32m      5\u001b[0m \u001b[0mopt\u001b[0m    \u001b[0;34m=\u001b[0m \u001b[0mOptimizer\u001b[0m \u001b[0;34m(\u001b[0m\u001b[0mmodel\u001b[0m\u001b[0;34m)\u001b[0m\u001b[0;34m\u001b[0m\u001b[0;34m\u001b[0m\u001b[0m\n\u001b[0;32m----> 6\u001b[0;31m \u001b[0mtr\u001b[0m\u001b[0;34m,\u001b[0m \u001b[0mts\u001b[0m \u001b[0;34m=\u001b[0m \u001b[0mopt\u001b[0m\u001b[0;34m.\u001b[0m\u001b[0mrun\u001b[0m \u001b[0;34m(\u001b[0m\u001b[0mx\u001b[0m\u001b[0;34m,\u001b[0m \u001b[0my\u001b[0m\u001b[0;34m,\u001b[0m \u001b[0mxt\u001b[0m\u001b[0;34m,\u001b[0m \u001b[0myt\u001b[0m\u001b[0;34m,\u001b[0m \u001b[0;36m100\u001b[0m\u001b[0;34m,\u001b[0m \u001b[0mverbose\u001b[0m\u001b[0;34m=\u001b[0m\u001b[0;36m1\u001b[0m\u001b[0;34m)\u001b[0m\u001b[0;34m\u001b[0m\u001b[0;34m\u001b[0m\u001b[0m\n\u001b[0m",
            "\u001b[0;32m<ipython-input-28-4e16c2858ab3>\u001b[0m in \u001b[0;36mrun\u001b[0;34m(self, dataX, dataY, testX, testY, epochs, verbose)\u001b[0m\n\u001b[1;32m     71\u001b[0m       \u001b[0;32mfor\u001b[0m \u001b[0mi\u001b[0m \u001b[0;32min\u001b[0m \u001b[0mrange\u001b[0m\u001b[0;34m(\u001b[0m\u001b[0mepochs\u001b[0m\u001b[0;34m)\u001b[0m\u001b[0;34m:\u001b[0m\u001b[0;34m\u001b[0m\u001b[0;34m\u001b[0m\u001b[0m\n\u001b[1;32m     72\u001b[0m \u001b[0;34m\u001b[0m\u001b[0m\n\u001b[0;32m---> 73\u001b[0;31m         \u001b[0mlossTR\u001b[0m \u001b[0;34m=\u001b[0m \u001b[0mself\u001b[0m\u001b[0;34m.\u001b[0m\u001b[0mtrain\u001b[0m \u001b[0;34m(\u001b[0m\u001b[0mdataX\u001b[0m \u001b[0;34m,\u001b[0m \u001b[0mdataY\u001b[0m\u001b[0;34m,\u001b[0m \u001b[0mverbose\u001b[0m\u001b[0;34m)\u001b[0m\u001b[0;34m\u001b[0m\u001b[0;34m\u001b[0m\u001b[0m\n\u001b[0m\u001b[1;32m     74\u001b[0m         \u001b[0mlossTS\u001b[0m \u001b[0;34m=\u001b[0m \u001b[0mself\u001b[0m\u001b[0;34m.\u001b[0m\u001b[0mtest\u001b[0m  \u001b[0;34m(\u001b[0m\u001b[0mtestX\u001b[0m \u001b[0;34m,\u001b[0m \u001b[0mtestY\u001b[0m\u001b[0;34m,\u001b[0m \u001b[0mverbose\u001b[0m\u001b[0;34m)\u001b[0m\u001b[0;34m\u001b[0m\u001b[0;34m\u001b[0m\u001b[0m\n\u001b[1;32m     75\u001b[0m         \u001b[0;32mif\u001b[0m \u001b[0mverbose\u001b[0m \u001b[0;34m>\u001b[0m \u001b[0;36m0\u001b[0m\u001b[0;34m:\u001b[0m\u001b[0;34m\u001b[0m\u001b[0;34m\u001b[0m\u001b[0m\n",
            "\u001b[0;32m<ipython-input-28-4e16c2858ab3>\u001b[0m in \u001b[0;36mtrain\u001b[0;34m(self, dataX, dataY, verbose)\u001b[0m\n\u001b[1;32m     30\u001b[0m                                    feed_dict={\n\u001b[1;32m     31\u001b[0m                                        \u001b[0mself\u001b[0m\u001b[0;34m.\u001b[0m\u001b[0mX\u001b[0m\u001b[0;34m:\u001b[0m\u001b[0mmbX\u001b[0m\u001b[0;34m,\u001b[0m\u001b[0;34m\u001b[0m\u001b[0;34m\u001b[0m\u001b[0m\n\u001b[0;32m---> 32\u001b[0;31m                                        \u001b[0mself\u001b[0m\u001b[0;34m.\u001b[0m\u001b[0mY\u001b[0m\u001b[0;34m:\u001b[0m\u001b[0mmbY\u001b[0m\u001b[0;34m\u001b[0m\u001b[0;34m\u001b[0m\u001b[0m\n\u001b[0m\u001b[1;32m     33\u001b[0m                                    })\n\u001b[1;32m     34\u001b[0m       \u001b[0;32mif\u001b[0m \u001b[0mverbose\u001b[0m\u001b[0;34m>\u001b[0m\u001b[0;36m1\u001b[0m\u001b[0;34m:\u001b[0m\u001b[0;34m\u001b[0m\u001b[0;34m\u001b[0m\u001b[0m\n",
            "\u001b[0;32m/usr/local/lib/python3.6/dist-packages/tensorflow/python/client/session.py\u001b[0m in \u001b[0;36mrun\u001b[0;34m(self, fetches, feed_dict, options, run_metadata)\u001b[0m\n\u001b[1;32m    927\u001b[0m     \u001b[0;32mtry\u001b[0m\u001b[0;34m:\u001b[0m\u001b[0;34m\u001b[0m\u001b[0;34m\u001b[0m\u001b[0m\n\u001b[1;32m    928\u001b[0m       result = self._run(None, fetches, feed_dict, options_ptr,\n\u001b[0;32m--> 929\u001b[0;31m                          run_metadata_ptr)\n\u001b[0m\u001b[1;32m    930\u001b[0m       \u001b[0;32mif\u001b[0m \u001b[0mrun_metadata\u001b[0m\u001b[0;34m:\u001b[0m\u001b[0;34m\u001b[0m\u001b[0;34m\u001b[0m\u001b[0m\n\u001b[1;32m    931\u001b[0m         \u001b[0mproto_data\u001b[0m \u001b[0;34m=\u001b[0m \u001b[0mtf_session\u001b[0m\u001b[0;34m.\u001b[0m\u001b[0mTF_GetBuffer\u001b[0m\u001b[0;34m(\u001b[0m\u001b[0mrun_metadata_ptr\u001b[0m\u001b[0;34m)\u001b[0m\u001b[0;34m\u001b[0m\u001b[0;34m\u001b[0m\u001b[0m\n",
            "\u001b[0;32m/usr/local/lib/python3.6/dist-packages/tensorflow/python/client/session.py\u001b[0m in \u001b[0;36m_run\u001b[0;34m(self, handle, fetches, feed_dict, options, run_metadata)\u001b[0m\n\u001b[1;32m   1150\u001b[0m     \u001b[0;32mif\u001b[0m \u001b[0mfinal_fetches\u001b[0m \u001b[0;32mor\u001b[0m \u001b[0mfinal_targets\u001b[0m \u001b[0;32mor\u001b[0m \u001b[0;34m(\u001b[0m\u001b[0mhandle\u001b[0m \u001b[0;32mand\u001b[0m \u001b[0mfeed_dict_tensor\u001b[0m\u001b[0;34m)\u001b[0m\u001b[0;34m:\u001b[0m\u001b[0;34m\u001b[0m\u001b[0;34m\u001b[0m\u001b[0m\n\u001b[1;32m   1151\u001b[0m       results = self._do_run(handle, final_targets, final_fetches,\n\u001b[0;32m-> 1152\u001b[0;31m                              feed_dict_tensor, options, run_metadata)\n\u001b[0m\u001b[1;32m   1153\u001b[0m     \u001b[0;32melse\u001b[0m\u001b[0;34m:\u001b[0m\u001b[0;34m\u001b[0m\u001b[0;34m\u001b[0m\u001b[0m\n\u001b[1;32m   1154\u001b[0m       \u001b[0mresults\u001b[0m \u001b[0;34m=\u001b[0m \u001b[0;34m[\u001b[0m\u001b[0;34m]\u001b[0m\u001b[0;34m\u001b[0m\u001b[0;34m\u001b[0m\u001b[0m\n",
            "\u001b[0;32m/usr/local/lib/python3.6/dist-packages/tensorflow/python/client/session.py\u001b[0m in \u001b[0;36m_do_run\u001b[0;34m(self, handle, target_list, fetch_list, feed_dict, options, run_metadata)\u001b[0m\n\u001b[1;32m   1326\u001b[0m     \u001b[0;32mif\u001b[0m \u001b[0mhandle\u001b[0m \u001b[0;32mis\u001b[0m \u001b[0;32mNone\u001b[0m\u001b[0;34m:\u001b[0m\u001b[0;34m\u001b[0m\u001b[0;34m\u001b[0m\u001b[0m\n\u001b[1;32m   1327\u001b[0m       return self._do_call(_run_fn, feeds, fetches, targets, options,\n\u001b[0;32m-> 1328\u001b[0;31m                            run_metadata)\n\u001b[0m\u001b[1;32m   1329\u001b[0m     \u001b[0;32melse\u001b[0m\u001b[0;34m:\u001b[0m\u001b[0;34m\u001b[0m\u001b[0;34m\u001b[0m\u001b[0m\n\u001b[1;32m   1330\u001b[0m       \u001b[0;32mreturn\u001b[0m \u001b[0mself\u001b[0m\u001b[0;34m.\u001b[0m\u001b[0m_do_call\u001b[0m\u001b[0;34m(\u001b[0m\u001b[0m_prun_fn\u001b[0m\u001b[0;34m,\u001b[0m \u001b[0mhandle\u001b[0m\u001b[0;34m,\u001b[0m \u001b[0mfeeds\u001b[0m\u001b[0;34m,\u001b[0m \u001b[0mfetches\u001b[0m\u001b[0;34m)\u001b[0m\u001b[0;34m\u001b[0m\u001b[0;34m\u001b[0m\u001b[0m\n",
            "\u001b[0;32m/usr/local/lib/python3.6/dist-packages/tensorflow/python/client/session.py\u001b[0m in \u001b[0;36m_do_call\u001b[0;34m(self, fn, *args)\u001b[0m\n\u001b[1;32m   1332\u001b[0m   \u001b[0;32mdef\u001b[0m \u001b[0m_do_call\u001b[0m\u001b[0;34m(\u001b[0m\u001b[0mself\u001b[0m\u001b[0;34m,\u001b[0m \u001b[0mfn\u001b[0m\u001b[0;34m,\u001b[0m \u001b[0;34m*\u001b[0m\u001b[0margs\u001b[0m\u001b[0;34m)\u001b[0m\u001b[0;34m:\u001b[0m\u001b[0;34m\u001b[0m\u001b[0;34m\u001b[0m\u001b[0m\n\u001b[1;32m   1333\u001b[0m     \u001b[0;32mtry\u001b[0m\u001b[0;34m:\u001b[0m\u001b[0;34m\u001b[0m\u001b[0;34m\u001b[0m\u001b[0m\n\u001b[0;32m-> 1334\u001b[0;31m       \u001b[0;32mreturn\u001b[0m \u001b[0mfn\u001b[0m\u001b[0;34m(\u001b[0m\u001b[0;34m*\u001b[0m\u001b[0margs\u001b[0m\u001b[0;34m)\u001b[0m\u001b[0;34m\u001b[0m\u001b[0;34m\u001b[0m\u001b[0m\n\u001b[0m\u001b[1;32m   1335\u001b[0m     \u001b[0;32mexcept\u001b[0m \u001b[0merrors\u001b[0m\u001b[0;34m.\u001b[0m\u001b[0mOpError\u001b[0m \u001b[0;32mas\u001b[0m \u001b[0me\u001b[0m\u001b[0;34m:\u001b[0m\u001b[0;34m\u001b[0m\u001b[0;34m\u001b[0m\u001b[0m\n\u001b[1;32m   1336\u001b[0m       \u001b[0mmessage\u001b[0m \u001b[0;34m=\u001b[0m \u001b[0mcompat\u001b[0m\u001b[0;34m.\u001b[0m\u001b[0mas_text\u001b[0m\u001b[0;34m(\u001b[0m\u001b[0me\u001b[0m\u001b[0;34m.\u001b[0m\u001b[0mmessage\u001b[0m\u001b[0;34m)\u001b[0m\u001b[0;34m\u001b[0m\u001b[0;34m\u001b[0m\u001b[0m\n",
            "\u001b[0;32m/usr/local/lib/python3.6/dist-packages/tensorflow/python/client/session.py\u001b[0m in \u001b[0;36m_run_fn\u001b[0;34m(feed_dict, fetch_list, target_list, options, run_metadata)\u001b[0m\n\u001b[1;32m   1317\u001b[0m       \u001b[0mself\u001b[0m\u001b[0;34m.\u001b[0m\u001b[0m_extend_graph\u001b[0m\u001b[0;34m(\u001b[0m\u001b[0;34m)\u001b[0m\u001b[0;34m\u001b[0m\u001b[0;34m\u001b[0m\u001b[0m\n\u001b[1;32m   1318\u001b[0m       return self._call_tf_sessionrun(\n\u001b[0;32m-> 1319\u001b[0;31m           options, feed_dict, fetch_list, target_list, run_metadata)\n\u001b[0m\u001b[1;32m   1320\u001b[0m \u001b[0;34m\u001b[0m\u001b[0m\n\u001b[1;32m   1321\u001b[0m     \u001b[0;32mdef\u001b[0m \u001b[0m_prun_fn\u001b[0m\u001b[0;34m(\u001b[0m\u001b[0mhandle\u001b[0m\u001b[0;34m,\u001b[0m \u001b[0mfeed_dict\u001b[0m\u001b[0;34m,\u001b[0m \u001b[0mfetch_list\u001b[0m\u001b[0;34m)\u001b[0m\u001b[0;34m:\u001b[0m\u001b[0;34m\u001b[0m\u001b[0;34m\u001b[0m\u001b[0m\n",
            "\u001b[0;32m/usr/local/lib/python3.6/dist-packages/tensorflow/python/client/session.py\u001b[0m in \u001b[0;36m_call_tf_sessionrun\u001b[0;34m(self, options, feed_dict, fetch_list, target_list, run_metadata)\u001b[0m\n\u001b[1;32m   1405\u001b[0m     return tf_session.TF_SessionRun_wrapper(\n\u001b[1;32m   1406\u001b[0m         \u001b[0mself\u001b[0m\u001b[0;34m.\u001b[0m\u001b[0m_session\u001b[0m\u001b[0;34m,\u001b[0m \u001b[0moptions\u001b[0m\u001b[0;34m,\u001b[0m \u001b[0mfeed_dict\u001b[0m\u001b[0;34m,\u001b[0m \u001b[0mfetch_list\u001b[0m\u001b[0;34m,\u001b[0m \u001b[0mtarget_list\u001b[0m\u001b[0;34m,\u001b[0m\u001b[0;34m\u001b[0m\u001b[0;34m\u001b[0m\u001b[0m\n\u001b[0;32m-> 1407\u001b[0;31m         run_metadata)\n\u001b[0m\u001b[1;32m   1408\u001b[0m \u001b[0;34m\u001b[0m\u001b[0m\n\u001b[1;32m   1409\u001b[0m   \u001b[0;32mdef\u001b[0m \u001b[0m_call_tf_sessionprun\u001b[0m\u001b[0;34m(\u001b[0m\u001b[0mself\u001b[0m\u001b[0;34m,\u001b[0m \u001b[0mhandle\u001b[0m\u001b[0;34m,\u001b[0m \u001b[0mfeed_dict\u001b[0m\u001b[0;34m,\u001b[0m \u001b[0mfetch_list\u001b[0m\u001b[0;34m)\u001b[0m\u001b[0;34m:\u001b[0m\u001b[0;34m\u001b[0m\u001b[0;34m\u001b[0m\u001b[0m\n",
            "\u001b[0;31mKeyboardInterrupt\u001b[0m: "
          ]
        }
      ]
    },
    {
      "metadata": {
        "id": "8lROgCU6BEoh",
        "colab_type": "text"
      },
      "cell_type": "markdown",
      "source": [
        "# PLOT"
      ]
    },
    {
      "metadata": {
        "id": "qEax4t3y_hSx",
        "colab_type": "code",
        "outputId": "eb3ed153-18bf-47dc-c595-a10f2de726cf",
        "colab": {
          "base_uri": "https://localhost:8080/",
          "height": 287
        }
      },
      "cell_type": "code",
      "source": [
        "import matplotlib.pyplot as plt\n",
        "import matplotlib\n",
        "print(matplotlib.__version__)\n",
        "plt.plot(ts, label='TEST')\n",
        "plt.plot(tr, label='TRAIN')\n",
        "plt.legend()\n",
        "plt.show()"
      ],
      "execution_count": 7,
      "outputs": [
        {
          "output_type": "stream",
          "text": [
            "3.0.3\n"
          ],
          "name": "stdout"
        },
        {
          "output_type": "display_data",
          "data": {
            "image/png": "[encoded data removed]",
            "text/plain": [
              "<Figure size 432x288 with 1 Axes>"
            ]
          },
          "metadata": {
            "tags": []
          }
        }
      ]
    },
    {
      "metadata": {
        "id": "oqRlbPI6xvsj",
        "colab_type": "text"
      },
      "cell_type": "markdown",
      "source": [
        "# EXERCISE 0\n",
        "## Your goal is to:\n",
        "### Expand this model to receive multiple inputs and the output must be of size 2.\n",
        "Your network must receive 5 different numbers, and output the sumation of cossines of the numbers and the summation of the sines.\n",
        "\n",
        "### Add L2 and L1 regularizations directly on the loss function and include their coeficcients as hyper-parameters\n",
        "\n",
        "### Add comments to this code\n",
        "\n",
        "## Feel free to make changes, as long as they make the code clear and keep a similar structure"
      ]
    }
  ]
}